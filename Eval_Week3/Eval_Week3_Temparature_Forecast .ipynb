{
 "cells": [
  {
   "cell_type": "markdown",
   "metadata": {},
   "source": [
    "### Tempareture Forcast\n",
    "This data is for the purpose of bias correction of next-day maximum and minimum air temperatures forecast of the LDAPS model operated by the Korea Meteorological Administration over Seoul, South Korea..the objective is to build a model that can predictthe temp  basis of the accumulated details likelat\tlon\tDEM\tSlope\tSolar radiation\tetc."
   ]
  },
  {
   "cell_type": "markdown",
   "metadata": {},
   "source": [
    "### Importing the required liabraries and Loading DataSet"
   ]
  },
  {
   "cell_type": "code",
   "execution_count": 1,
   "metadata": {},
   "outputs": [],
   "source": [
    "# importing librarires:\n",
    "\n",
    "# Data Wranglers\n",
    "import numpy as np\n",
    "import pandas as pd\n",
    "\n",
    "# visualization \n",
    "import matplotlib.pyplot as plt\n",
    "%matplotlib inline\n",
    "import seaborn as sns\n",
    "\n",
    "# stats dependency\n",
    "from scipy import stats\n",
    "# feature_engineering dependency\n",
    "import feature_engine\n",
    "\n",
    "#Avoid warnings\n",
    "import warnings\n",
    "warnings.filterwarnings('ignore')"
   ]
  },
  {
   "cell_type": "markdown",
   "metadata": {},
   "source": [
    "### LOADING DATASET"
   ]
  },
  {
   "cell_type": "code",
   "execution_count": 9,
   "metadata": {},
   "outputs": [
    {
     "data": {
      "text/html": [
       "<div>\n",
       "<style scoped>\n",
       "    .dataframe tbody tr th:only-of-type {\n",
       "        vertical-align: middle;\n",
       "    }\n",
       "\n",
       "    .dataframe tbody tr th {\n",
       "        vertical-align: top;\n",
       "    }\n",
       "\n",
       "    .dataframe thead th {\n",
       "        text-align: right;\n",
       "    }\n",
       "</style>\n",
       "<table border=\"1\" class=\"dataframe\">\n",
       "  <thead>\n",
       "    <tr style=\"text-align: right;\">\n",
       "      <th></th>\n",
       "      <th>station</th>\n",
       "      <th>Date</th>\n",
       "      <th>Present_Tmax</th>\n",
       "      <th>Present_Tmin</th>\n",
       "      <th>LDAPS_RHmin</th>\n",
       "      <th>LDAPS_RHmax</th>\n",
       "      <th>LDAPS_Tmax_lapse</th>\n",
       "      <th>LDAPS_Tmin_lapse</th>\n",
       "      <th>LDAPS_WS</th>\n",
       "      <th>LDAPS_LH</th>\n",
       "      <th>...</th>\n",
       "      <th>LDAPS_PPT2</th>\n",
       "      <th>LDAPS_PPT3</th>\n",
       "      <th>LDAPS_PPT4</th>\n",
       "      <th>lat</th>\n",
       "      <th>lon</th>\n",
       "      <th>DEM</th>\n",
       "      <th>Slope</th>\n",
       "      <th>Solar radiation</th>\n",
       "      <th>Next_Tmax</th>\n",
       "      <th>Next_Tmin</th>\n",
       "    </tr>\n",
       "  </thead>\n",
       "  <tbody>\n",
       "    <tr>\n",
       "      <th>0</th>\n",
       "      <td>1.0</td>\n",
       "      <td>2013-06-30</td>\n",
       "      <td>28.7</td>\n",
       "      <td>21.4</td>\n",
       "      <td>58.255688</td>\n",
       "      <td>91.116364</td>\n",
       "      <td>28.074101</td>\n",
       "      <td>23.006936</td>\n",
       "      <td>6.818887</td>\n",
       "      <td>69.451805</td>\n",
       "      <td>...</td>\n",
       "      <td>0.0</td>\n",
       "      <td>0.0</td>\n",
       "      <td>0.0</td>\n",
       "      <td>37.6046</td>\n",
       "      <td>126.991</td>\n",
       "      <td>212.3350</td>\n",
       "      <td>2.7850</td>\n",
       "      <td>5992.895996</td>\n",
       "      <td>29.1</td>\n",
       "      <td>21.2</td>\n",
       "    </tr>\n",
       "    <tr>\n",
       "      <th>1</th>\n",
       "      <td>2.0</td>\n",
       "      <td>2013-06-30</td>\n",
       "      <td>31.9</td>\n",
       "      <td>21.6</td>\n",
       "      <td>52.263397</td>\n",
       "      <td>90.604721</td>\n",
       "      <td>29.850689</td>\n",
       "      <td>24.035009</td>\n",
       "      <td>5.691890</td>\n",
       "      <td>51.937448</td>\n",
       "      <td>...</td>\n",
       "      <td>0.0</td>\n",
       "      <td>0.0</td>\n",
       "      <td>0.0</td>\n",
       "      <td>37.6046</td>\n",
       "      <td>127.032</td>\n",
       "      <td>44.7624</td>\n",
       "      <td>0.5141</td>\n",
       "      <td>5869.312500</td>\n",
       "      <td>30.5</td>\n",
       "      <td>22.5</td>\n",
       "    </tr>\n",
       "    <tr>\n",
       "      <th>2</th>\n",
       "      <td>3.0</td>\n",
       "      <td>2013-06-30</td>\n",
       "      <td>31.6</td>\n",
       "      <td>23.3</td>\n",
       "      <td>48.690479</td>\n",
       "      <td>83.973587</td>\n",
       "      <td>30.091292</td>\n",
       "      <td>24.565633</td>\n",
       "      <td>6.138224</td>\n",
       "      <td>20.573050</td>\n",
       "      <td>...</td>\n",
       "      <td>0.0</td>\n",
       "      <td>0.0</td>\n",
       "      <td>0.0</td>\n",
       "      <td>37.5776</td>\n",
       "      <td>127.058</td>\n",
       "      <td>33.3068</td>\n",
       "      <td>0.2661</td>\n",
       "      <td>5863.555664</td>\n",
       "      <td>31.1</td>\n",
       "      <td>23.9</td>\n",
       "    </tr>\n",
       "    <tr>\n",
       "      <th>3</th>\n",
       "      <td>4.0</td>\n",
       "      <td>2013-06-30</td>\n",
       "      <td>32.0</td>\n",
       "      <td>23.4</td>\n",
       "      <td>58.239788</td>\n",
       "      <td>96.483688</td>\n",
       "      <td>29.704629</td>\n",
       "      <td>23.326177</td>\n",
       "      <td>5.650050</td>\n",
       "      <td>65.727144</td>\n",
       "      <td>...</td>\n",
       "      <td>0.0</td>\n",
       "      <td>0.0</td>\n",
       "      <td>0.0</td>\n",
       "      <td>37.6450</td>\n",
       "      <td>127.022</td>\n",
       "      <td>45.7160</td>\n",
       "      <td>2.5348</td>\n",
       "      <td>5856.964844</td>\n",
       "      <td>31.7</td>\n",
       "      <td>24.3</td>\n",
       "    </tr>\n",
       "    <tr>\n",
       "      <th>4</th>\n",
       "      <td>5.0</td>\n",
       "      <td>2013-06-30</td>\n",
       "      <td>31.4</td>\n",
       "      <td>21.9</td>\n",
       "      <td>56.174095</td>\n",
       "      <td>90.155128</td>\n",
       "      <td>29.113934</td>\n",
       "      <td>23.486480</td>\n",
       "      <td>5.735004</td>\n",
       "      <td>107.965535</td>\n",
       "      <td>...</td>\n",
       "      <td>0.0</td>\n",
       "      <td>0.0</td>\n",
       "      <td>0.0</td>\n",
       "      <td>37.5507</td>\n",
       "      <td>127.135</td>\n",
       "      <td>35.0380</td>\n",
       "      <td>0.5055</td>\n",
       "      <td>5859.552246</td>\n",
       "      <td>31.2</td>\n",
       "      <td>22.5</td>\n",
       "    </tr>\n",
       "  </tbody>\n",
       "</table>\n",
       "<p>5 rows × 25 columns</p>\n",
       "</div>"
      ],
      "text/plain": [
       "   station       Date  Present_Tmax  Present_Tmin  LDAPS_RHmin  LDAPS_RHmax  \\\n",
       "0      1.0 2013-06-30          28.7          21.4    58.255688    91.116364   \n",
       "1      2.0 2013-06-30          31.9          21.6    52.263397    90.604721   \n",
       "2      3.0 2013-06-30          31.6          23.3    48.690479    83.973587   \n",
       "3      4.0 2013-06-30          32.0          23.4    58.239788    96.483688   \n",
       "4      5.0 2013-06-30          31.4          21.9    56.174095    90.155128   \n",
       "\n",
       "   LDAPS_Tmax_lapse  LDAPS_Tmin_lapse  LDAPS_WS    LDAPS_LH  ...  LDAPS_PPT2  \\\n",
       "0         28.074101         23.006936  6.818887   69.451805  ...         0.0   \n",
       "1         29.850689         24.035009  5.691890   51.937448  ...         0.0   \n",
       "2         30.091292         24.565633  6.138224   20.573050  ...         0.0   \n",
       "3         29.704629         23.326177  5.650050   65.727144  ...         0.0   \n",
       "4         29.113934         23.486480  5.735004  107.965535  ...         0.0   \n",
       "\n",
       "   LDAPS_PPT3  LDAPS_PPT4      lat      lon       DEM   Slope  \\\n",
       "0         0.0         0.0  37.6046  126.991  212.3350  2.7850   \n",
       "1         0.0         0.0  37.6046  127.032   44.7624  0.5141   \n",
       "2         0.0         0.0  37.5776  127.058   33.3068  0.2661   \n",
       "3         0.0         0.0  37.6450  127.022   45.7160  2.5348   \n",
       "4         0.0         0.0  37.5507  127.135   35.0380  0.5055   \n",
       "\n",
       "   Solar radiation  Next_Tmax  Next_Tmin  \n",
       "0      5992.895996       29.1       21.2  \n",
       "1      5869.312500       30.5       22.5  \n",
       "2      5863.555664       31.1       23.9  \n",
       "3      5856.964844       31.7       24.3  \n",
       "4      5859.552246       31.2       22.5  \n",
       "\n",
       "[5 rows x 25 columns]"
      ]
     },
     "execution_count": 9,
     "metadata": {},
     "output_type": "execute_result"
    }
   ],
   "source": [
    "df = pd.read_csv('temperature.csv',parse_dates=['Date'])\n",
    "df.head()"
   ]
  },
  {
   "cell_type": "code",
   "execution_count": 10,
   "metadata": {},
   "outputs": [
    {
     "name": "stdout",
     "output_type": "stream",
     "text": [
      "Size of dataset \n",
      "  (7752, 25) \n",
      "\n",
      "<class 'pandas.core.frame.DataFrame'>\n",
      "RangeIndex: 7752 entries, 0 to 7751\n",
      "Data columns (total 25 columns):\n",
      " #   Column            Non-Null Count  Dtype         \n",
      "---  ------            --------------  -----         \n",
      " 0   station           7750 non-null   float64       \n",
      " 1   Date              7750 non-null   datetime64[ns]\n",
      " 2   Present_Tmax      7682 non-null   float64       \n",
      " 3   Present_Tmin      7682 non-null   float64       \n",
      " 4   LDAPS_RHmin       7677 non-null   float64       \n",
      " 5   LDAPS_RHmax       7677 non-null   float64       \n",
      " 6   LDAPS_Tmax_lapse  7677 non-null   float64       \n",
      " 7   LDAPS_Tmin_lapse  7677 non-null   float64       \n",
      " 8   LDAPS_WS          7677 non-null   float64       \n",
      " 9   LDAPS_LH          7677 non-null   float64       \n",
      " 10  LDAPS_CC1         7677 non-null   float64       \n",
      " 11  LDAPS_CC2         7677 non-null   float64       \n",
      " 12  LDAPS_CC3         7677 non-null   float64       \n",
      " 13  LDAPS_CC4         7677 non-null   float64       \n",
      " 14  LDAPS_PPT1        7677 non-null   float64       \n",
      " 15  LDAPS_PPT2        7677 non-null   float64       \n",
      " 16  LDAPS_PPT3        7677 non-null   float64       \n",
      " 17  LDAPS_PPT4        7677 non-null   float64       \n",
      " 18  lat               7752 non-null   float64       \n",
      " 19  lon               7752 non-null   float64       \n",
      " 20  DEM               7752 non-null   float64       \n",
      " 21  Slope             7752 non-null   float64       \n",
      " 22  Solar radiation   7752 non-null   float64       \n",
      " 23  Next_Tmax         7725 non-null   float64       \n",
      " 24  Next_Tmin         7725 non-null   float64       \n",
      "dtypes: datetime64[ns](1), float64(24)\n",
      "memory usage: 1.5 MB\n",
      "Details dataset\n",
      " None \n",
      "\n",
      "Checking for NULL/Missing values \n",
      " station              2\n",
      "Date                 2\n",
      "Present_Tmax        70\n",
      "Present_Tmin        70\n",
      "LDAPS_RHmin         75\n",
      "LDAPS_RHmax         75\n",
      "LDAPS_Tmax_lapse    75\n",
      "LDAPS_Tmin_lapse    75\n",
      "LDAPS_WS            75\n",
      "LDAPS_LH            75\n",
      "LDAPS_CC1           75\n",
      "LDAPS_CC2           75\n",
      "LDAPS_CC3           75\n",
      "LDAPS_CC4           75\n",
      "LDAPS_PPT1          75\n",
      "LDAPS_PPT2          75\n",
      "LDAPS_PPT3          75\n",
      "LDAPS_PPT4          75\n",
      "lat                  0\n",
      "lon                  0\n",
      "DEM                  0\n",
      "Slope                0\n",
      "Solar radiation      0\n",
      "Next_Tmax           27\n",
      "Next_Tmin           27\n",
      "dtype: int64\n"
     ]
    }
   ],
   "source": [
    "#Dataset details \n",
    "# more infor on the dataset \n",
    "print('Size of dataset \\n ',df.shape,'\\n')\n",
    "print('Details dataset\\n' ,df.info(),'\\n')\n",
    "print('Checking for NULL/Missing values \\n',df.isna().sum())"
   ]
  },
  {
   "cell_type": "code",
   "execution_count": 11,
   "metadata": {},
   "outputs": [
    {
     "name": "stdout",
     "output_type": "stream",
     "text": [
      ">>> Total Number of Feature:: 25\n",
      ">>> Number of categorical features:: 0\n",
      ">>> Number of Numerical Feature:: 24\n"
     ]
    }
   ],
   "source": [
    "#Listing categorcal or Numeric Coulumn \n",
    "cat_col,num_col=[],[]\n",
    "for i in df:\n",
    "    if df[i].dtype=='O':\n",
    "        cat_col.append(i)\n",
    "    elif (df[i].dtypes=='int64') | (df[i].dtypes=='float64') | (df[i].dtypes=='int32'):\n",
    "        num_col.append(i)\n",
    "    else: continue\n",
    "print('>>> Total Number of Feature::', df.shape[1])\n",
    "print('>>> Number of categorical features::', len(cat_col))\n",
    "print('>>> Number of Numerical Feature::', len(num_col))"
   ]
  },
  {
   "cell_type": "code",
   "execution_count": 14,
   "metadata": {},
   "outputs": [
    {
     "data": {
      "text/plain": [
       "[]"
      ]
     },
     "execution_count": 14,
     "metadata": {},
     "output_type": "execute_result"
    }
   ],
   "source": [
    "cat_col"
   ]
  },
  {
   "cell_type": "code",
   "execution_count": 6,
   "metadata": {},
   "outputs": [
    {
     "data": {
      "text/plain": [
       "['station',\n",
       " 'Present_Tmax',\n",
       " 'Present_Tmin',\n",
       " 'LDAPS_RHmin',\n",
       " 'LDAPS_RHmax',\n",
       " 'LDAPS_Tmax_lapse',\n",
       " 'LDAPS_Tmin_lapse',\n",
       " 'LDAPS_WS',\n",
       " 'LDAPS_LH',\n",
       " 'LDAPS_CC1',\n",
       " 'LDAPS_CC2',\n",
       " 'LDAPS_CC3',\n",
       " 'LDAPS_CC4',\n",
       " 'LDAPS_PPT1',\n",
       " 'LDAPS_PPT2',\n",
       " 'LDAPS_PPT3',\n",
       " 'LDAPS_PPT4',\n",
       " 'lat',\n",
       " 'lon',\n",
       " 'DEM',\n",
       " 'Slope',\n",
       " 'Solar radiation',\n",
       " 'Next_Tmax',\n",
       " 'Next_Tmin']"
      ]
     },
     "execution_count": 6,
     "metadata": {},
     "output_type": "execute_result"
    }
   ],
   "source": [
    "num_col"
   ]
  },
  {
   "cell_type": "code",
   "execution_count": 13,
   "metadata": {},
   "outputs": [
    {
     "data": {
      "text/html": [
       "<div>\n",
       "<style scoped>\n",
       "    .dataframe tbody tr th:only-of-type {\n",
       "        vertical-align: middle;\n",
       "    }\n",
       "\n",
       "    .dataframe tbody tr th {\n",
       "        vertical-align: top;\n",
       "    }\n",
       "\n",
       "    .dataframe thead th {\n",
       "        text-align: right;\n",
       "    }\n",
       "</style>\n",
       "<table border=\"1\" class=\"dataframe\">\n",
       "  <thead>\n",
       "    <tr style=\"text-align: right;\">\n",
       "      <th></th>\n",
       "      <th>station</th>\n",
       "      <th>Date</th>\n",
       "      <th>Present_Tmax</th>\n",
       "      <th>Present_Tmin</th>\n",
       "      <th>LDAPS_RHmin</th>\n",
       "      <th>LDAPS_RHmax</th>\n",
       "      <th>LDAPS_Tmax_lapse</th>\n",
       "      <th>LDAPS_Tmin_lapse</th>\n",
       "      <th>LDAPS_WS</th>\n",
       "      <th>LDAPS_LH</th>\n",
       "      <th>...</th>\n",
       "      <th>LDAPS_PPT2</th>\n",
       "      <th>LDAPS_PPT3</th>\n",
       "      <th>LDAPS_PPT4</th>\n",
       "      <th>lat</th>\n",
       "      <th>lon</th>\n",
       "      <th>DEM</th>\n",
       "      <th>Slope</th>\n",
       "      <th>Solar radiation</th>\n",
       "      <th>Next_Tmax</th>\n",
       "      <th>Next_Tmin</th>\n",
       "    </tr>\n",
       "  </thead>\n",
       "  <tbody>\n",
       "    <tr>\n",
       "      <th>count</th>\n",
       "      <td>7750.000000</td>\n",
       "      <td>7750</td>\n",
       "      <td>7682.000000</td>\n",
       "      <td>7682.000000</td>\n",
       "      <td>7677.000000</td>\n",
       "      <td>7677.000000</td>\n",
       "      <td>7677.000000</td>\n",
       "      <td>7677.000000</td>\n",
       "      <td>7677.000000</td>\n",
       "      <td>7677.000000</td>\n",
       "      <td>...</td>\n",
       "      <td>7677.000000</td>\n",
       "      <td>7677.000000</td>\n",
       "      <td>7677.000000</td>\n",
       "      <td>7752.000000</td>\n",
       "      <td>7752.000000</td>\n",
       "      <td>7752.000000</td>\n",
       "      <td>7752.000000</td>\n",
       "      <td>7752.000000</td>\n",
       "      <td>7725.000000</td>\n",
       "      <td>7725.000000</td>\n",
       "    </tr>\n",
       "    <tr>\n",
       "      <th>unique</th>\n",
       "      <td>NaN</td>\n",
       "      <td>310</td>\n",
       "      <td>NaN</td>\n",
       "      <td>NaN</td>\n",
       "      <td>NaN</td>\n",
       "      <td>NaN</td>\n",
       "      <td>NaN</td>\n",
       "      <td>NaN</td>\n",
       "      <td>NaN</td>\n",
       "      <td>NaN</td>\n",
       "      <td>...</td>\n",
       "      <td>NaN</td>\n",
       "      <td>NaN</td>\n",
       "      <td>NaN</td>\n",
       "      <td>NaN</td>\n",
       "      <td>NaN</td>\n",
       "      <td>NaN</td>\n",
       "      <td>NaN</td>\n",
       "      <td>NaN</td>\n",
       "      <td>NaN</td>\n",
       "      <td>NaN</td>\n",
       "    </tr>\n",
       "    <tr>\n",
       "      <th>top</th>\n",
       "      <td>NaN</td>\n",
       "      <td>2017-08-21 00:00:00</td>\n",
       "      <td>NaN</td>\n",
       "      <td>NaN</td>\n",
       "      <td>NaN</td>\n",
       "      <td>NaN</td>\n",
       "      <td>NaN</td>\n",
       "      <td>NaN</td>\n",
       "      <td>NaN</td>\n",
       "      <td>NaN</td>\n",
       "      <td>...</td>\n",
       "      <td>NaN</td>\n",
       "      <td>NaN</td>\n",
       "      <td>NaN</td>\n",
       "      <td>NaN</td>\n",
       "      <td>NaN</td>\n",
       "      <td>NaN</td>\n",
       "      <td>NaN</td>\n",
       "      <td>NaN</td>\n",
       "      <td>NaN</td>\n",
       "      <td>NaN</td>\n",
       "    </tr>\n",
       "    <tr>\n",
       "      <th>freq</th>\n",
       "      <td>NaN</td>\n",
       "      <td>25</td>\n",
       "      <td>NaN</td>\n",
       "      <td>NaN</td>\n",
       "      <td>NaN</td>\n",
       "      <td>NaN</td>\n",
       "      <td>NaN</td>\n",
       "      <td>NaN</td>\n",
       "      <td>NaN</td>\n",
       "      <td>NaN</td>\n",
       "      <td>...</td>\n",
       "      <td>NaN</td>\n",
       "      <td>NaN</td>\n",
       "      <td>NaN</td>\n",
       "      <td>NaN</td>\n",
       "      <td>NaN</td>\n",
       "      <td>NaN</td>\n",
       "      <td>NaN</td>\n",
       "      <td>NaN</td>\n",
       "      <td>NaN</td>\n",
       "      <td>NaN</td>\n",
       "    </tr>\n",
       "    <tr>\n",
       "      <th>first</th>\n",
       "      <td>NaN</td>\n",
       "      <td>2013-01-07 00:00:00</td>\n",
       "      <td>NaN</td>\n",
       "      <td>NaN</td>\n",
       "      <td>NaN</td>\n",
       "      <td>NaN</td>\n",
       "      <td>NaN</td>\n",
       "      <td>NaN</td>\n",
       "      <td>NaN</td>\n",
       "      <td>NaN</td>\n",
       "      <td>...</td>\n",
       "      <td>NaN</td>\n",
       "      <td>NaN</td>\n",
       "      <td>NaN</td>\n",
       "      <td>NaN</td>\n",
       "      <td>NaN</td>\n",
       "      <td>NaN</td>\n",
       "      <td>NaN</td>\n",
       "      <td>NaN</td>\n",
       "      <td>NaN</td>\n",
       "      <td>NaN</td>\n",
       "    </tr>\n",
       "    <tr>\n",
       "      <th>last</th>\n",
       "      <td>NaN</td>\n",
       "      <td>2017-12-08 00:00:00</td>\n",
       "      <td>NaN</td>\n",
       "      <td>NaN</td>\n",
       "      <td>NaN</td>\n",
       "      <td>NaN</td>\n",
       "      <td>NaN</td>\n",
       "      <td>NaN</td>\n",
       "      <td>NaN</td>\n",
       "      <td>NaN</td>\n",
       "      <td>...</td>\n",
       "      <td>NaN</td>\n",
       "      <td>NaN</td>\n",
       "      <td>NaN</td>\n",
       "      <td>NaN</td>\n",
       "      <td>NaN</td>\n",
       "      <td>NaN</td>\n",
       "      <td>NaN</td>\n",
       "      <td>NaN</td>\n",
       "      <td>NaN</td>\n",
       "      <td>NaN</td>\n",
       "    </tr>\n",
       "    <tr>\n",
       "      <th>mean</th>\n",
       "      <td>13.000000</td>\n",
       "      <td>NaN</td>\n",
       "      <td>29.768211</td>\n",
       "      <td>23.225059</td>\n",
       "      <td>56.759372</td>\n",
       "      <td>88.374804</td>\n",
       "      <td>29.613447</td>\n",
       "      <td>23.512589</td>\n",
       "      <td>7.097875</td>\n",
       "      <td>62.505019</td>\n",
       "      <td>...</td>\n",
       "      <td>0.485003</td>\n",
       "      <td>0.278200</td>\n",
       "      <td>0.269407</td>\n",
       "      <td>37.544722</td>\n",
       "      <td>126.991397</td>\n",
       "      <td>61.867972</td>\n",
       "      <td>1.257048</td>\n",
       "      <td>5341.502803</td>\n",
       "      <td>30.274887</td>\n",
       "      <td>22.932220</td>\n",
       "    </tr>\n",
       "    <tr>\n",
       "      <th>std</th>\n",
       "      <td>7.211568</td>\n",
       "      <td>NaN</td>\n",
       "      <td>2.969999</td>\n",
       "      <td>2.413961</td>\n",
       "      <td>14.668111</td>\n",
       "      <td>7.192004</td>\n",
       "      <td>2.947191</td>\n",
       "      <td>2.345347</td>\n",
       "      <td>2.183836</td>\n",
       "      <td>33.730589</td>\n",
       "      <td>...</td>\n",
       "      <td>1.762807</td>\n",
       "      <td>1.161809</td>\n",
       "      <td>1.206214</td>\n",
       "      <td>0.050352</td>\n",
       "      <td>0.079435</td>\n",
       "      <td>54.279780</td>\n",
       "      <td>1.370444</td>\n",
       "      <td>429.158867</td>\n",
       "      <td>3.128010</td>\n",
       "      <td>2.487613</td>\n",
       "    </tr>\n",
       "    <tr>\n",
       "      <th>min</th>\n",
       "      <td>1.000000</td>\n",
       "      <td>NaN</td>\n",
       "      <td>20.000000</td>\n",
       "      <td>11.300000</td>\n",
       "      <td>19.794666</td>\n",
       "      <td>58.936283</td>\n",
       "      <td>17.624954</td>\n",
       "      <td>14.272646</td>\n",
       "      <td>2.882580</td>\n",
       "      <td>-13.603212</td>\n",
       "      <td>...</td>\n",
       "      <td>0.000000</td>\n",
       "      <td>0.000000</td>\n",
       "      <td>0.000000</td>\n",
       "      <td>37.456200</td>\n",
       "      <td>126.826000</td>\n",
       "      <td>12.370000</td>\n",
       "      <td>0.098475</td>\n",
       "      <td>4329.520508</td>\n",
       "      <td>17.400000</td>\n",
       "      <td>11.300000</td>\n",
       "    </tr>\n",
       "    <tr>\n",
       "      <th>25%</th>\n",
       "      <td>7.000000</td>\n",
       "      <td>NaN</td>\n",
       "      <td>27.800000</td>\n",
       "      <td>21.700000</td>\n",
       "      <td>45.963543</td>\n",
       "      <td>84.222862</td>\n",
       "      <td>27.673499</td>\n",
       "      <td>22.089739</td>\n",
       "      <td>5.678705</td>\n",
       "      <td>37.266753</td>\n",
       "      <td>...</td>\n",
       "      <td>0.000000</td>\n",
       "      <td>0.000000</td>\n",
       "      <td>0.000000</td>\n",
       "      <td>37.510200</td>\n",
       "      <td>126.937000</td>\n",
       "      <td>28.700000</td>\n",
       "      <td>0.271300</td>\n",
       "      <td>4999.018555</td>\n",
       "      <td>28.200000</td>\n",
       "      <td>21.300000</td>\n",
       "    </tr>\n",
       "    <tr>\n",
       "      <th>50%</th>\n",
       "      <td>13.000000</td>\n",
       "      <td>NaN</td>\n",
       "      <td>29.900000</td>\n",
       "      <td>23.400000</td>\n",
       "      <td>55.039024</td>\n",
       "      <td>89.793480</td>\n",
       "      <td>29.703426</td>\n",
       "      <td>23.760199</td>\n",
       "      <td>6.547470</td>\n",
       "      <td>56.865482</td>\n",
       "      <td>...</td>\n",
       "      <td>0.000000</td>\n",
       "      <td>0.000000</td>\n",
       "      <td>0.000000</td>\n",
       "      <td>37.550700</td>\n",
       "      <td>126.995000</td>\n",
       "      <td>45.716000</td>\n",
       "      <td>0.618000</td>\n",
       "      <td>5436.345215</td>\n",
       "      <td>30.500000</td>\n",
       "      <td>23.100000</td>\n",
       "    </tr>\n",
       "    <tr>\n",
       "      <th>75%</th>\n",
       "      <td>19.000000</td>\n",
       "      <td>NaN</td>\n",
       "      <td>32.000000</td>\n",
       "      <td>24.900000</td>\n",
       "      <td>67.190056</td>\n",
       "      <td>93.743629</td>\n",
       "      <td>31.710450</td>\n",
       "      <td>25.152909</td>\n",
       "      <td>8.032276</td>\n",
       "      <td>84.223616</td>\n",
       "      <td>...</td>\n",
       "      <td>0.018364</td>\n",
       "      <td>0.007896</td>\n",
       "      <td>0.000041</td>\n",
       "      <td>37.577600</td>\n",
       "      <td>127.042000</td>\n",
       "      <td>59.832400</td>\n",
       "      <td>1.767800</td>\n",
       "      <td>5728.316406</td>\n",
       "      <td>32.600000</td>\n",
       "      <td>24.600000</td>\n",
       "    </tr>\n",
       "    <tr>\n",
       "      <th>max</th>\n",
       "      <td>25.000000</td>\n",
       "      <td>NaN</td>\n",
       "      <td>37.600000</td>\n",
       "      <td>29.900000</td>\n",
       "      <td>98.524734</td>\n",
       "      <td>100.000153</td>\n",
       "      <td>38.542255</td>\n",
       "      <td>29.619342</td>\n",
       "      <td>21.857621</td>\n",
       "      <td>213.414006</td>\n",
       "      <td>...</td>\n",
       "      <td>21.621661</td>\n",
       "      <td>15.841235</td>\n",
       "      <td>16.655469</td>\n",
       "      <td>37.645000</td>\n",
       "      <td>127.135000</td>\n",
       "      <td>212.335000</td>\n",
       "      <td>5.178230</td>\n",
       "      <td>5992.895996</td>\n",
       "      <td>38.900000</td>\n",
       "      <td>29.800000</td>\n",
       "    </tr>\n",
       "  </tbody>\n",
       "</table>\n",
       "<p>13 rows × 25 columns</p>\n",
       "</div>"
      ],
      "text/plain": [
       "            station                 Date  Present_Tmax  Present_Tmin  \\\n",
       "count   7750.000000                 7750   7682.000000   7682.000000   \n",
       "unique          NaN                  310           NaN           NaN   \n",
       "top             NaN  2017-08-21 00:00:00           NaN           NaN   \n",
       "freq            NaN                   25           NaN           NaN   \n",
       "first           NaN  2013-01-07 00:00:00           NaN           NaN   \n",
       "last            NaN  2017-12-08 00:00:00           NaN           NaN   \n",
       "mean      13.000000                  NaN     29.768211     23.225059   \n",
       "std        7.211568                  NaN      2.969999      2.413961   \n",
       "min        1.000000                  NaN     20.000000     11.300000   \n",
       "25%        7.000000                  NaN     27.800000     21.700000   \n",
       "50%       13.000000                  NaN     29.900000     23.400000   \n",
       "75%       19.000000                  NaN     32.000000     24.900000   \n",
       "max       25.000000                  NaN     37.600000     29.900000   \n",
       "\n",
       "        LDAPS_RHmin  LDAPS_RHmax  LDAPS_Tmax_lapse  LDAPS_Tmin_lapse  \\\n",
       "count   7677.000000  7677.000000       7677.000000       7677.000000   \n",
       "unique          NaN          NaN               NaN               NaN   \n",
       "top             NaN          NaN               NaN               NaN   \n",
       "freq            NaN          NaN               NaN               NaN   \n",
       "first           NaN          NaN               NaN               NaN   \n",
       "last            NaN          NaN               NaN               NaN   \n",
       "mean      56.759372    88.374804         29.613447         23.512589   \n",
       "std       14.668111     7.192004          2.947191          2.345347   \n",
       "min       19.794666    58.936283         17.624954         14.272646   \n",
       "25%       45.963543    84.222862         27.673499         22.089739   \n",
       "50%       55.039024    89.793480         29.703426         23.760199   \n",
       "75%       67.190056    93.743629         31.710450         25.152909   \n",
       "max       98.524734   100.000153         38.542255         29.619342   \n",
       "\n",
       "           LDAPS_WS     LDAPS_LH  ...   LDAPS_PPT2   LDAPS_PPT3   LDAPS_PPT4  \\\n",
       "count   7677.000000  7677.000000  ...  7677.000000  7677.000000  7677.000000   \n",
       "unique          NaN          NaN  ...          NaN          NaN          NaN   \n",
       "top             NaN          NaN  ...          NaN          NaN          NaN   \n",
       "freq            NaN          NaN  ...          NaN          NaN          NaN   \n",
       "first           NaN          NaN  ...          NaN          NaN          NaN   \n",
       "last            NaN          NaN  ...          NaN          NaN          NaN   \n",
       "mean       7.097875    62.505019  ...     0.485003     0.278200     0.269407   \n",
       "std        2.183836    33.730589  ...     1.762807     1.161809     1.206214   \n",
       "min        2.882580   -13.603212  ...     0.000000     0.000000     0.000000   \n",
       "25%        5.678705    37.266753  ...     0.000000     0.000000     0.000000   \n",
       "50%        6.547470    56.865482  ...     0.000000     0.000000     0.000000   \n",
       "75%        8.032276    84.223616  ...     0.018364     0.007896     0.000041   \n",
       "max       21.857621   213.414006  ...    21.621661    15.841235    16.655469   \n",
       "\n",
       "                lat          lon          DEM        Slope  Solar radiation  \\\n",
       "count   7752.000000  7752.000000  7752.000000  7752.000000      7752.000000   \n",
       "unique          NaN          NaN          NaN          NaN              NaN   \n",
       "top             NaN          NaN          NaN          NaN              NaN   \n",
       "freq            NaN          NaN          NaN          NaN              NaN   \n",
       "first           NaN          NaN          NaN          NaN              NaN   \n",
       "last            NaN          NaN          NaN          NaN              NaN   \n",
       "mean      37.544722   126.991397    61.867972     1.257048      5341.502803   \n",
       "std        0.050352     0.079435    54.279780     1.370444       429.158867   \n",
       "min       37.456200   126.826000    12.370000     0.098475      4329.520508   \n",
       "25%       37.510200   126.937000    28.700000     0.271300      4999.018555   \n",
       "50%       37.550700   126.995000    45.716000     0.618000      5436.345215   \n",
       "75%       37.577600   127.042000    59.832400     1.767800      5728.316406   \n",
       "max       37.645000   127.135000   212.335000     5.178230      5992.895996   \n",
       "\n",
       "          Next_Tmax    Next_Tmin  \n",
       "count   7725.000000  7725.000000  \n",
       "unique          NaN          NaN  \n",
       "top             NaN          NaN  \n",
       "freq            NaN          NaN  \n",
       "first           NaN          NaN  \n",
       "last            NaN          NaN  \n",
       "mean      30.274887    22.932220  \n",
       "std        3.128010     2.487613  \n",
       "min       17.400000    11.300000  \n",
       "25%       28.200000    21.300000  \n",
       "50%       30.500000    23.100000  \n",
       "75%       32.600000    24.600000  \n",
       "max       38.900000    29.800000  \n",
       "\n",
       "[13 rows x 25 columns]"
      ]
     },
     "execution_count": 13,
     "metadata": {},
     "output_type": "execute_result"
    }
   ],
   "source": [
    "df.describe(include = 'all')"
   ]
  },
  {
   "cell_type": "code",
   "execution_count": 15,
   "metadata": {},
   "outputs": [
    {
     "data": {
      "text/plain": [
       "station             0.000258\n",
       "Date                0.000258\n",
       "Present_Tmax        0.009030\n",
       "Present_Tmin        0.009030\n",
       "LDAPS_RHmin         0.009675\n",
       "LDAPS_RHmax         0.009675\n",
       "LDAPS_Tmax_lapse    0.009675\n",
       "LDAPS_Tmin_lapse    0.009675\n",
       "LDAPS_WS            0.009675\n",
       "LDAPS_LH            0.009675\n",
       "LDAPS_CC1           0.009675\n",
       "LDAPS_CC2           0.009675\n",
       "LDAPS_CC3           0.009675\n",
       "LDAPS_CC4           0.009675\n",
       "LDAPS_PPT1          0.009675\n",
       "LDAPS_PPT2          0.009675\n",
       "LDAPS_PPT3          0.009675\n",
       "LDAPS_PPT4          0.009675\n",
       "lat                 0.000000\n",
       "lon                 0.000000\n",
       "DEM                 0.000000\n",
       "Slope               0.000000\n",
       "Solar radiation     0.000000\n",
       "Next_Tmax           0.003483\n",
       "Next_Tmin           0.003483\n",
       "dtype: float64"
      ]
     },
     "execution_count": 15,
     "metadata": {},
     "output_type": "execute_result"
    }
   ],
   "source": [
    "# we observed  a  lot of missing values \n",
    "df.isna().mean()"
   ]
  },
  {
   "cell_type": "code",
   "execution_count": 16,
   "metadata": {},
   "outputs": [
    {
     "data": {
      "text/html": [
       "<div>\n",
       "<style scoped>\n",
       "    .dataframe tbody tr th:only-of-type {\n",
       "        vertical-align: middle;\n",
       "    }\n",
       "\n",
       "    .dataframe tbody tr th {\n",
       "        vertical-align: top;\n",
       "    }\n",
       "\n",
       "    .dataframe thead th {\n",
       "        text-align: right;\n",
       "    }\n",
       "</style>\n",
       "<table border=\"1\" class=\"dataframe\">\n",
       "  <thead>\n",
       "    <tr style=\"text-align: right;\">\n",
       "      <th></th>\n",
       "      <th>station</th>\n",
       "      <th>Present_Tmax</th>\n",
       "      <th>Present_Tmin</th>\n",
       "      <th>LDAPS_RHmin</th>\n",
       "      <th>LDAPS_RHmax</th>\n",
       "      <th>LDAPS_Tmax_lapse</th>\n",
       "      <th>LDAPS_Tmin_lapse</th>\n",
       "      <th>LDAPS_WS</th>\n",
       "      <th>LDAPS_LH</th>\n",
       "      <th>LDAPS_CC1</th>\n",
       "      <th>...</th>\n",
       "      <th>LDAPS_PPT2</th>\n",
       "      <th>LDAPS_PPT3</th>\n",
       "      <th>LDAPS_PPT4</th>\n",
       "      <th>lat</th>\n",
       "      <th>lon</th>\n",
       "      <th>DEM</th>\n",
       "      <th>Slope</th>\n",
       "      <th>Solar radiation</th>\n",
       "      <th>Next_Tmax</th>\n",
       "      <th>Next_Tmin</th>\n",
       "    </tr>\n",
       "  </thead>\n",
       "  <tbody>\n",
       "    <tr>\n",
       "      <th>station</th>\n",
       "      <td>1.000000</td>\n",
       "      <td>0.113211</td>\n",
       "      <td>0.132419</td>\n",
       "      <td>-0.067122</td>\n",
       "      <td>-0.168010</td>\n",
       "      <td>0.069561</td>\n",
       "      <td>0.105422</td>\n",
       "      <td>0.005320</td>\n",
       "      <td>-0.134226</td>\n",
       "      <td>0.006956</td>\n",
       "      <td>...</td>\n",
       "      <td>-0.008369</td>\n",
       "      <td>-0.012671</td>\n",
       "      <td>-0.010580</td>\n",
       "      <td>-0.237610</td>\n",
       "      <td>-0.118763</td>\n",
       "      <td>-0.255970</td>\n",
       "      <td>-0.090113</td>\n",
       "      <td>-0.019011</td>\n",
       "      <td>0.108306</td>\n",
       "      <td>0.128719</td>\n",
       "    </tr>\n",
       "    <tr>\n",
       "      <th>Present_Tmax</th>\n",
       "      <td>0.113211</td>\n",
       "      <td>1.000000</td>\n",
       "      <td>0.618760</td>\n",
       "      <td>-0.206782</td>\n",
       "      <td>-0.304209</td>\n",
       "      <td>0.575289</td>\n",
       "      <td>0.629247</td>\n",
       "      <td>-0.122876</td>\n",
       "      <td>0.136716</td>\n",
       "      <td>-0.314863</td>\n",
       "      <td>...</td>\n",
       "      <td>-0.100420</td>\n",
       "      <td>-0.121271</td>\n",
       "      <td>-0.101471</td>\n",
       "      <td>-0.052776</td>\n",
       "      <td>0.009075</td>\n",
       "      <td>-0.187855</td>\n",
       "      <td>-0.106097</td>\n",
       "      <td>-0.025557</td>\n",
       "      <td>0.613109</td>\n",
       "      <td>0.625252</td>\n",
       "    </tr>\n",
       "    <tr>\n",
       "      <th>Present_Tmin</th>\n",
       "      <td>0.132419</td>\n",
       "      <td>0.618760</td>\n",
       "      <td>1.000000</td>\n",
       "      <td>0.124921</td>\n",
       "      <td>-0.015334</td>\n",
       "      <td>0.470118</td>\n",
       "      <td>0.772921</td>\n",
       "      <td>-0.035111</td>\n",
       "      <td>-0.009368</td>\n",
       "      <td>0.085593</td>\n",
       "      <td>...</td>\n",
       "      <td>0.069095</td>\n",
       "      <td>-0.046645</td>\n",
       "      <td>-0.064394</td>\n",
       "      <td>-0.078715</td>\n",
       "      <td>-0.043725</td>\n",
       "      <td>-0.251257</td>\n",
       "      <td>-0.146736</td>\n",
       "      <td>0.053828</td>\n",
       "      <td>0.473868</td>\n",
       "      <td>0.799758</td>\n",
       "    </tr>\n",
       "    <tr>\n",
       "      <th>LDAPS_RHmin</th>\n",
       "      <td>-0.067122</td>\n",
       "      <td>-0.206782</td>\n",
       "      <td>0.124921</td>\n",
       "      <td>1.000000</td>\n",
       "      <td>0.579141</td>\n",
       "      <td>-0.564580</td>\n",
       "      <td>0.089476</td>\n",
       "      <td>0.294361</td>\n",
       "      <td>-0.070858</td>\n",
       "      <td>0.613818</td>\n",
       "      <td>...</td>\n",
       "      <td>0.390967</td>\n",
       "      <td>0.240642</td>\n",
       "      <td>0.168595</td>\n",
       "      <td>0.087523</td>\n",
       "      <td>-0.076608</td>\n",
       "      <td>0.102612</td>\n",
       "      <td>0.124346</td>\n",
       "      <td>0.244795</td>\n",
       "      <td>-0.442958</td>\n",
       "      <td>0.095830</td>\n",
       "    </tr>\n",
       "    <tr>\n",
       "      <th>LDAPS_RHmax</th>\n",
       "      <td>-0.168010</td>\n",
       "      <td>-0.304209</td>\n",
       "      <td>-0.015334</td>\n",
       "      <td>0.579141</td>\n",
       "      <td>1.000000</td>\n",
       "      <td>-0.373404</td>\n",
       "      <td>-0.114143</td>\n",
       "      <td>0.135333</td>\n",
       "      <td>0.238579</td>\n",
       "      <td>0.436652</td>\n",
       "      <td>...</td>\n",
       "      <td>0.229050</td>\n",
       "      <td>0.134607</td>\n",
       "      <td>0.117853</td>\n",
       "      <td>0.196751</td>\n",
       "      <td>0.025792</td>\n",
       "      <td>0.178031</td>\n",
       "      <td>0.220668</td>\n",
       "      <td>0.149699</td>\n",
       "      <td>-0.286478</td>\n",
       "      <td>-0.072490</td>\n",
       "    </tr>\n",
       "    <tr>\n",
       "      <th>LDAPS_Tmax_lapse</th>\n",
       "      <td>0.069561</td>\n",
       "      <td>0.575289</td>\n",
       "      <td>0.470118</td>\n",
       "      <td>-0.564580</td>\n",
       "      <td>-0.373404</td>\n",
       "      <td>1.000000</td>\n",
       "      <td>0.654021</td>\n",
       "      <td>-0.311996</td>\n",
       "      <td>0.048010</td>\n",
       "      <td>-0.438439</td>\n",
       "      <td>...</td>\n",
       "      <td>-0.242122</td>\n",
       "      <td>-0.188115</td>\n",
       "      <td>-0.160273</td>\n",
       "      <td>-0.042298</td>\n",
       "      <td>0.091107</td>\n",
       "      <td>-0.179766</td>\n",
       "      <td>-0.163123</td>\n",
       "      <td>0.048111</td>\n",
       "      <td>0.836144</td>\n",
       "      <td>0.591535</td>\n",
       "    </tr>\n",
       "    <tr>\n",
       "      <th>LDAPS_Tmin_lapse</th>\n",
       "      <td>0.105422</td>\n",
       "      <td>0.629247</td>\n",
       "      <td>0.772921</td>\n",
       "      <td>0.089476</td>\n",
       "      <td>-0.114143</td>\n",
       "      <td>0.654021</td>\n",
       "      <td>1.000000</td>\n",
       "      <td>-0.130035</td>\n",
       "      <td>-0.134761</td>\n",
       "      <td>0.010901</td>\n",
       "      <td>...</td>\n",
       "      <td>0.000870</td>\n",
       "      <td>-0.088575</td>\n",
       "      <td>-0.094655</td>\n",
       "      <td>-0.096726</td>\n",
       "      <td>-0.026831</td>\n",
       "      <td>-0.196407</td>\n",
       "      <td>-0.186753</td>\n",
       "      <td>0.160443</td>\n",
       "      <td>0.593195</td>\n",
       "      <td>0.886964</td>\n",
       "    </tr>\n",
       "    <tr>\n",
       "      <th>LDAPS_WS</th>\n",
       "      <td>0.005320</td>\n",
       "      <td>-0.122876</td>\n",
       "      <td>-0.035111</td>\n",
       "      <td>0.294361</td>\n",
       "      <td>0.135333</td>\n",
       "      <td>-0.311996</td>\n",
       "      <td>-0.130035</td>\n",
       "      <td>1.000000</td>\n",
       "      <td>0.006711</td>\n",
       "      <td>0.289445</td>\n",
       "      <td>...</td>\n",
       "      <td>0.191886</td>\n",
       "      <td>0.161684</td>\n",
       "      <td>0.144085</td>\n",
       "      <td>0.036836</td>\n",
       "      <td>-0.059756</td>\n",
       "      <td>0.191983</td>\n",
       "      <td>0.172464</td>\n",
       "      <td>0.122116</td>\n",
       "      <td>-0.346592</td>\n",
       "      <td>-0.097390</td>\n",
       "    </tr>\n",
       "    <tr>\n",
       "      <th>LDAPS_LH</th>\n",
       "      <td>-0.134226</td>\n",
       "      <td>0.136716</td>\n",
       "      <td>-0.009368</td>\n",
       "      <td>-0.070858</td>\n",
       "      <td>0.238579</td>\n",
       "      <td>0.048010</td>\n",
       "      <td>-0.134761</td>\n",
       "      <td>0.006711</td>\n",
       "      <td>1.000000</td>\n",
       "      <td>-0.147296</td>\n",
       "      <td>...</td>\n",
       "      <td>-0.077545</td>\n",
       "      <td>0.016102</td>\n",
       "      <td>0.019979</td>\n",
       "      <td>0.133870</td>\n",
       "      <td>0.025948</td>\n",
       "      <td>0.055402</td>\n",
       "      <td>0.087203</td>\n",
       "      <td>-0.047523</td>\n",
       "      <td>0.159324</td>\n",
       "      <td>-0.055895</td>\n",
       "    </tr>\n",
       "    <tr>\n",
       "      <th>LDAPS_CC1</th>\n",
       "      <td>0.006956</td>\n",
       "      <td>-0.314863</td>\n",
       "      <td>0.085593</td>\n",
       "      <td>0.613818</td>\n",
       "      <td>0.436652</td>\n",
       "      <td>-0.438439</td>\n",
       "      <td>0.010901</td>\n",
       "      <td>0.289445</td>\n",
       "      <td>-0.147296</td>\n",
       "      <td>1.000000</td>\n",
       "      <td>...</td>\n",
       "      <td>0.389453</td>\n",
       "      <td>0.168742</td>\n",
       "      <td>0.091722</td>\n",
       "      <td>-0.008170</td>\n",
       "      <td>-0.006876</td>\n",
       "      <td>-0.014159</td>\n",
       "      <td>-0.020853</td>\n",
       "      <td>0.218949</td>\n",
       "      <td>-0.457583</td>\n",
       "      <td>-0.011129</td>\n",
       "    </tr>\n",
       "    <tr>\n",
       "      <th>LDAPS_CC2</th>\n",
       "      <td>0.003414</td>\n",
       "      <td>-0.215816</td>\n",
       "      <td>0.091439</td>\n",
       "      <td>0.745443</td>\n",
       "      <td>0.391330</td>\n",
       "      <td>-0.523619</td>\n",
       "      <td>0.047727</td>\n",
       "      <td>0.261090</td>\n",
       "      <td>-0.264280</td>\n",
       "      <td>0.779683</td>\n",
       "      <td>...</td>\n",
       "      <td>0.478472</td>\n",
       "      <td>0.240134</td>\n",
       "      <td>0.159548</td>\n",
       "      <td>-0.001505</td>\n",
       "      <td>-0.003599</td>\n",
       "      <td>-0.012886</td>\n",
       "      <td>-0.018161</td>\n",
       "      <td>0.170903</td>\n",
       "      <td>-0.496251</td>\n",
       "      <td>0.031500</td>\n",
       "    </tr>\n",
       "    <tr>\n",
       "      <th>LDAPS_CC3</th>\n",
       "      <td>0.000698</td>\n",
       "      <td>-0.145513</td>\n",
       "      <td>-0.002839</td>\n",
       "      <td>0.689679</td>\n",
       "      <td>0.226957</td>\n",
       "      <td>-0.541327</td>\n",
       "      <td>-0.044018</td>\n",
       "      <td>0.242991</td>\n",
       "      <td>-0.245583</td>\n",
       "      <td>0.517493</td>\n",
       "      <td>...</td>\n",
       "      <td>0.337569</td>\n",
       "      <td>0.339800</td>\n",
       "      <td>0.302357</td>\n",
       "      <td>0.004128</td>\n",
       "      <td>0.016119</td>\n",
       "      <td>0.000701</td>\n",
       "      <td>-0.003355</td>\n",
       "      <td>0.119642</td>\n",
       "      <td>-0.520706</td>\n",
       "      <td>-0.055217</td>\n",
       "    </tr>\n",
       "    <tr>\n",
       "      <th>LDAPS_CC4</th>\n",
       "      <td>0.006159</td>\n",
       "      <td>-0.142497</td>\n",
       "      <td>-0.045091</td>\n",
       "      <td>0.514075</td>\n",
       "      <td>0.130619</td>\n",
       "      <td>-0.429539</td>\n",
       "      <td>-0.080335</td>\n",
       "      <td>0.220533</td>\n",
       "      <td>-0.172766</td>\n",
       "      <td>0.361046</td>\n",
       "      <td>...</td>\n",
       "      <td>0.288195</td>\n",
       "      <td>0.267494</td>\n",
       "      <td>0.376049</td>\n",
       "      <td>-0.009151</td>\n",
       "      <td>-0.002489</td>\n",
       "      <td>-0.007370</td>\n",
       "      <td>-0.014530</td>\n",
       "      <td>0.120335</td>\n",
       "      <td>-0.451324</td>\n",
       "      <td>-0.085805</td>\n",
       "    </tr>\n",
       "    <tr>\n",
       "      <th>LDAPS_PPT1</th>\n",
       "      <td>-0.002748</td>\n",
       "      <td>-0.110001</td>\n",
       "      <td>0.114312</td>\n",
       "      <td>0.262665</td>\n",
       "      <td>0.268449</td>\n",
       "      <td>-0.111065</td>\n",
       "      <td>0.038056</td>\n",
       "      <td>0.152587</td>\n",
       "      <td>-0.012542</td>\n",
       "      <td>0.446328</td>\n",
       "      <td>...</td>\n",
       "      <td>0.383831</td>\n",
       "      <td>0.033004</td>\n",
       "      <td>0.024626</td>\n",
       "      <td>0.000568</td>\n",
       "      <td>-0.001231</td>\n",
       "      <td>0.011345</td>\n",
       "      <td>0.016389</td>\n",
       "      <td>0.088273</td>\n",
       "      <td>-0.120079</td>\n",
       "      <td>0.021486</td>\n",
       "    </tr>\n",
       "    <tr>\n",
       "      <th>LDAPS_PPT2</th>\n",
       "      <td>-0.008369</td>\n",
       "      <td>-0.100420</td>\n",
       "      <td>0.069095</td>\n",
       "      <td>0.390967</td>\n",
       "      <td>0.229050</td>\n",
       "      <td>-0.242122</td>\n",
       "      <td>0.000870</td>\n",
       "      <td>0.191886</td>\n",
       "      <td>-0.077545</td>\n",
       "      <td>0.389453</td>\n",
       "      <td>...</td>\n",
       "      <td>1.000000</td>\n",
       "      <td>0.221172</td>\n",
       "      <td>0.139555</td>\n",
       "      <td>0.019659</td>\n",
       "      <td>0.018690</td>\n",
       "      <td>0.008397</td>\n",
       "      <td>0.010264</td>\n",
       "      <td>0.110505</td>\n",
       "      <td>-0.180449</td>\n",
       "      <td>-0.008131</td>\n",
       "    </tr>\n",
       "    <tr>\n",
       "      <th>LDAPS_PPT3</th>\n",
       "      <td>-0.012671</td>\n",
       "      <td>-0.121271</td>\n",
       "      <td>-0.046645</td>\n",
       "      <td>0.240642</td>\n",
       "      <td>0.134607</td>\n",
       "      <td>-0.188115</td>\n",
       "      <td>-0.088575</td>\n",
       "      <td>0.161684</td>\n",
       "      <td>0.016102</td>\n",
       "      <td>0.168742</td>\n",
       "      <td>...</td>\n",
       "      <td>0.221172</td>\n",
       "      <td>1.000000</td>\n",
       "      <td>0.309076</td>\n",
       "      <td>0.035281</td>\n",
       "      <td>0.021767</td>\n",
       "      <td>0.017270</td>\n",
       "      <td>0.025456</td>\n",
       "      <td>-0.054229</td>\n",
       "      <td>-0.196845</td>\n",
       "      <td>-0.063318</td>\n",
       "    </tr>\n",
       "    <tr>\n",
       "      <th>LDAPS_PPT4</th>\n",
       "      <td>-0.010580</td>\n",
       "      <td>-0.101471</td>\n",
       "      <td>-0.064394</td>\n",
       "      <td>0.168595</td>\n",
       "      <td>0.117853</td>\n",
       "      <td>-0.160273</td>\n",
       "      <td>-0.094655</td>\n",
       "      <td>0.144085</td>\n",
       "      <td>0.019979</td>\n",
       "      <td>0.091722</td>\n",
       "      <td>...</td>\n",
       "      <td>0.139555</td>\n",
       "      <td>0.309076</td>\n",
       "      <td>1.000000</td>\n",
       "      <td>0.013275</td>\n",
       "      <td>0.044963</td>\n",
       "      <td>-0.003640</td>\n",
       "      <td>0.000118</td>\n",
       "      <td>0.035060</td>\n",
       "      <td>-0.180669</td>\n",
       "      <td>-0.104515</td>\n",
       "    </tr>\n",
       "    <tr>\n",
       "      <th>lat</th>\n",
       "      <td>-0.237610</td>\n",
       "      <td>-0.052776</td>\n",
       "      <td>-0.078715</td>\n",
       "      <td>0.087523</td>\n",
       "      <td>0.196751</td>\n",
       "      <td>-0.042298</td>\n",
       "      <td>-0.096726</td>\n",
       "      <td>0.036836</td>\n",
       "      <td>0.133870</td>\n",
       "      <td>-0.008170</td>\n",
       "      <td>...</td>\n",
       "      <td>0.019659</td>\n",
       "      <td>0.035281</td>\n",
       "      <td>0.013275</td>\n",
       "      <td>1.000000</td>\n",
       "      <td>0.289029</td>\n",
       "      <td>0.033165</td>\n",
       "      <td>0.074763</td>\n",
       "      <td>0.038513</td>\n",
       "      <td>-0.053567</td>\n",
       "      <td>-0.083621</td>\n",
       "    </tr>\n",
       "    <tr>\n",
       "      <th>lon</th>\n",
       "      <td>-0.118763</td>\n",
       "      <td>0.009075</td>\n",
       "      <td>-0.043725</td>\n",
       "      <td>-0.076608</td>\n",
       "      <td>0.025792</td>\n",
       "      <td>0.091107</td>\n",
       "      <td>-0.026831</td>\n",
       "      <td>-0.059756</td>\n",
       "      <td>0.025948</td>\n",
       "      <td>-0.006876</td>\n",
       "      <td>...</td>\n",
       "      <td>0.018690</td>\n",
       "      <td>0.021767</td>\n",
       "      <td>0.044963</td>\n",
       "      <td>0.289029</td>\n",
       "      <td>1.000000</td>\n",
       "      <td>0.007587</td>\n",
       "      <td>0.038070</td>\n",
       "      <td>0.002182</td>\n",
       "      <td>0.003060</td>\n",
       "      <td>-0.046737</td>\n",
       "    </tr>\n",
       "    <tr>\n",
       "      <th>DEM</th>\n",
       "      <td>-0.255970</td>\n",
       "      <td>-0.187855</td>\n",
       "      <td>-0.251257</td>\n",
       "      <td>0.102612</td>\n",
       "      <td>0.178031</td>\n",
       "      <td>-0.179766</td>\n",
       "      <td>-0.196407</td>\n",
       "      <td>0.191983</td>\n",
       "      <td>0.055402</td>\n",
       "      <td>-0.014159</td>\n",
       "      <td>...</td>\n",
       "      <td>0.008397</td>\n",
       "      <td>0.017270</td>\n",
       "      <td>-0.003640</td>\n",
       "      <td>0.033165</td>\n",
       "      <td>0.007587</td>\n",
       "      <td>1.000000</td>\n",
       "      <td>0.783576</td>\n",
       "      <td>0.056224</td>\n",
       "      <td>-0.172674</td>\n",
       "      <td>-0.247100</td>\n",
       "    </tr>\n",
       "    <tr>\n",
       "      <th>Slope</th>\n",
       "      <td>-0.090113</td>\n",
       "      <td>-0.106097</td>\n",
       "      <td>-0.146736</td>\n",
       "      <td>0.124346</td>\n",
       "      <td>0.220668</td>\n",
       "      <td>-0.163123</td>\n",
       "      <td>-0.186753</td>\n",
       "      <td>0.172464</td>\n",
       "      <td>0.087203</td>\n",
       "      <td>-0.020853</td>\n",
       "      <td>...</td>\n",
       "      <td>0.010264</td>\n",
       "      <td>0.025456</td>\n",
       "      <td>0.000118</td>\n",
       "      <td>0.074763</td>\n",
       "      <td>0.038070</td>\n",
       "      <td>0.783576</td>\n",
       "      <td>1.000000</td>\n",
       "      <td>0.028199</td>\n",
       "      <td>-0.102838</td>\n",
       "      <td>-0.147043</td>\n",
       "    </tr>\n",
       "    <tr>\n",
       "      <th>Solar radiation</th>\n",
       "      <td>-0.019011</td>\n",
       "      <td>-0.025557</td>\n",
       "      <td>0.053828</td>\n",
       "      <td>0.244795</td>\n",
       "      <td>0.149699</td>\n",
       "      <td>0.048111</td>\n",
       "      <td>0.160443</td>\n",
       "      <td>0.122116</td>\n",
       "      <td>-0.047523</td>\n",
       "      <td>0.218949</td>\n",
       "      <td>...</td>\n",
       "      <td>0.110505</td>\n",
       "      <td>-0.054229</td>\n",
       "      <td>0.035060</td>\n",
       "      <td>0.038513</td>\n",
       "      <td>0.002182</td>\n",
       "      <td>0.056224</td>\n",
       "      <td>0.028199</td>\n",
       "      <td>1.000000</td>\n",
       "      <td>0.008809</td>\n",
       "      <td>0.120400</td>\n",
       "    </tr>\n",
       "    <tr>\n",
       "      <th>Next_Tmax</th>\n",
       "      <td>0.108306</td>\n",
       "      <td>0.613109</td>\n",
       "      <td>0.473868</td>\n",
       "      <td>-0.442958</td>\n",
       "      <td>-0.286478</td>\n",
       "      <td>0.836144</td>\n",
       "      <td>0.593195</td>\n",
       "      <td>-0.346592</td>\n",
       "      <td>0.159324</td>\n",
       "      <td>-0.457583</td>\n",
       "      <td>...</td>\n",
       "      <td>-0.180449</td>\n",
       "      <td>-0.196845</td>\n",
       "      <td>-0.180669</td>\n",
       "      <td>-0.053567</td>\n",
       "      <td>0.003060</td>\n",
       "      <td>-0.172674</td>\n",
       "      <td>-0.102838</td>\n",
       "      <td>0.008809</td>\n",
       "      <td>1.000000</td>\n",
       "      <td>0.621427</td>\n",
       "    </tr>\n",
       "    <tr>\n",
       "      <th>Next_Tmin</th>\n",
       "      <td>0.128719</td>\n",
       "      <td>0.625252</td>\n",
       "      <td>0.799758</td>\n",
       "      <td>0.095830</td>\n",
       "      <td>-0.072490</td>\n",
       "      <td>0.591535</td>\n",
       "      <td>0.886964</td>\n",
       "      <td>-0.097390</td>\n",
       "      <td>-0.055895</td>\n",
       "      <td>-0.011129</td>\n",
       "      <td>...</td>\n",
       "      <td>-0.008131</td>\n",
       "      <td>-0.063318</td>\n",
       "      <td>-0.104515</td>\n",
       "      <td>-0.083621</td>\n",
       "      <td>-0.046737</td>\n",
       "      <td>-0.247100</td>\n",
       "      <td>-0.147043</td>\n",
       "      <td>0.120400</td>\n",
       "      <td>0.621427</td>\n",
       "      <td>1.000000</td>\n",
       "    </tr>\n",
       "  </tbody>\n",
       "</table>\n",
       "<p>24 rows × 24 columns</p>\n",
       "</div>"
      ],
      "text/plain": [
       "                   station  Present_Tmax  Present_Tmin  LDAPS_RHmin  \\\n",
       "station           1.000000      0.113211      0.132419    -0.067122   \n",
       "Present_Tmax      0.113211      1.000000      0.618760    -0.206782   \n",
       "Present_Tmin      0.132419      0.618760      1.000000     0.124921   \n",
       "LDAPS_RHmin      -0.067122     -0.206782      0.124921     1.000000   \n",
       "LDAPS_RHmax      -0.168010     -0.304209     -0.015334     0.579141   \n",
       "LDAPS_Tmax_lapse  0.069561      0.575289      0.470118    -0.564580   \n",
       "LDAPS_Tmin_lapse  0.105422      0.629247      0.772921     0.089476   \n",
       "LDAPS_WS          0.005320     -0.122876     -0.035111     0.294361   \n",
       "LDAPS_LH         -0.134226      0.136716     -0.009368    -0.070858   \n",
       "LDAPS_CC1         0.006956     -0.314863      0.085593     0.613818   \n",
       "LDAPS_CC2         0.003414     -0.215816      0.091439     0.745443   \n",
       "LDAPS_CC3         0.000698     -0.145513     -0.002839     0.689679   \n",
       "LDAPS_CC4         0.006159     -0.142497     -0.045091     0.514075   \n",
       "LDAPS_PPT1       -0.002748     -0.110001      0.114312     0.262665   \n",
       "LDAPS_PPT2       -0.008369     -0.100420      0.069095     0.390967   \n",
       "LDAPS_PPT3       -0.012671     -0.121271     -0.046645     0.240642   \n",
       "LDAPS_PPT4       -0.010580     -0.101471     -0.064394     0.168595   \n",
       "lat              -0.237610     -0.052776     -0.078715     0.087523   \n",
       "lon              -0.118763      0.009075     -0.043725    -0.076608   \n",
       "DEM              -0.255970     -0.187855     -0.251257     0.102612   \n",
       "Slope            -0.090113     -0.106097     -0.146736     0.124346   \n",
       "Solar radiation  -0.019011     -0.025557      0.053828     0.244795   \n",
       "Next_Tmax         0.108306      0.613109      0.473868    -0.442958   \n",
       "Next_Tmin         0.128719      0.625252      0.799758     0.095830   \n",
       "\n",
       "                  LDAPS_RHmax  LDAPS_Tmax_lapse  LDAPS_Tmin_lapse  LDAPS_WS  \\\n",
       "station             -0.168010          0.069561          0.105422  0.005320   \n",
       "Present_Tmax        -0.304209          0.575289          0.629247 -0.122876   \n",
       "Present_Tmin        -0.015334          0.470118          0.772921 -0.035111   \n",
       "LDAPS_RHmin          0.579141         -0.564580          0.089476  0.294361   \n",
       "LDAPS_RHmax          1.000000         -0.373404         -0.114143  0.135333   \n",
       "LDAPS_Tmax_lapse    -0.373404          1.000000          0.654021 -0.311996   \n",
       "LDAPS_Tmin_lapse    -0.114143          0.654021          1.000000 -0.130035   \n",
       "LDAPS_WS             0.135333         -0.311996         -0.130035  1.000000   \n",
       "LDAPS_LH             0.238579          0.048010         -0.134761  0.006711   \n",
       "LDAPS_CC1            0.436652         -0.438439          0.010901  0.289445   \n",
       "LDAPS_CC2            0.391330         -0.523619          0.047727  0.261090   \n",
       "LDAPS_CC3            0.226957         -0.541327         -0.044018  0.242991   \n",
       "LDAPS_CC4            0.130619         -0.429539         -0.080335  0.220533   \n",
       "LDAPS_PPT1           0.268449         -0.111065          0.038056  0.152587   \n",
       "LDAPS_PPT2           0.229050         -0.242122          0.000870  0.191886   \n",
       "LDAPS_PPT3           0.134607         -0.188115         -0.088575  0.161684   \n",
       "LDAPS_PPT4           0.117853         -0.160273         -0.094655  0.144085   \n",
       "lat                  0.196751         -0.042298         -0.096726  0.036836   \n",
       "lon                  0.025792          0.091107         -0.026831 -0.059756   \n",
       "DEM                  0.178031         -0.179766         -0.196407  0.191983   \n",
       "Slope                0.220668         -0.163123         -0.186753  0.172464   \n",
       "Solar radiation      0.149699          0.048111          0.160443  0.122116   \n",
       "Next_Tmax           -0.286478          0.836144          0.593195 -0.346592   \n",
       "Next_Tmin           -0.072490          0.591535          0.886964 -0.097390   \n",
       "\n",
       "                  LDAPS_LH  LDAPS_CC1  ...  LDAPS_PPT2  LDAPS_PPT3  \\\n",
       "station          -0.134226   0.006956  ...   -0.008369   -0.012671   \n",
       "Present_Tmax      0.136716  -0.314863  ...   -0.100420   -0.121271   \n",
       "Present_Tmin     -0.009368   0.085593  ...    0.069095   -0.046645   \n",
       "LDAPS_RHmin      -0.070858   0.613818  ...    0.390967    0.240642   \n",
       "LDAPS_RHmax       0.238579   0.436652  ...    0.229050    0.134607   \n",
       "LDAPS_Tmax_lapse  0.048010  -0.438439  ...   -0.242122   -0.188115   \n",
       "LDAPS_Tmin_lapse -0.134761   0.010901  ...    0.000870   -0.088575   \n",
       "LDAPS_WS          0.006711   0.289445  ...    0.191886    0.161684   \n",
       "LDAPS_LH          1.000000  -0.147296  ...   -0.077545    0.016102   \n",
       "LDAPS_CC1        -0.147296   1.000000  ...    0.389453    0.168742   \n",
       "LDAPS_CC2        -0.264280   0.779683  ...    0.478472    0.240134   \n",
       "LDAPS_CC3        -0.245583   0.517493  ...    0.337569    0.339800   \n",
       "LDAPS_CC4        -0.172766   0.361046  ...    0.288195    0.267494   \n",
       "LDAPS_PPT1       -0.012542   0.446328  ...    0.383831    0.033004   \n",
       "LDAPS_PPT2       -0.077545   0.389453  ...    1.000000    0.221172   \n",
       "LDAPS_PPT3        0.016102   0.168742  ...    0.221172    1.000000   \n",
       "LDAPS_PPT4        0.019979   0.091722  ...    0.139555    0.309076   \n",
       "lat               0.133870  -0.008170  ...    0.019659    0.035281   \n",
       "lon               0.025948  -0.006876  ...    0.018690    0.021767   \n",
       "DEM               0.055402  -0.014159  ...    0.008397    0.017270   \n",
       "Slope             0.087203  -0.020853  ...    0.010264    0.025456   \n",
       "Solar radiation  -0.047523   0.218949  ...    0.110505   -0.054229   \n",
       "Next_Tmax         0.159324  -0.457583  ...   -0.180449   -0.196845   \n",
       "Next_Tmin        -0.055895  -0.011129  ...   -0.008131   -0.063318   \n",
       "\n",
       "                  LDAPS_PPT4       lat       lon       DEM     Slope  \\\n",
       "station            -0.010580 -0.237610 -0.118763 -0.255970 -0.090113   \n",
       "Present_Tmax       -0.101471 -0.052776  0.009075 -0.187855 -0.106097   \n",
       "Present_Tmin       -0.064394 -0.078715 -0.043725 -0.251257 -0.146736   \n",
       "LDAPS_RHmin         0.168595  0.087523 -0.076608  0.102612  0.124346   \n",
       "LDAPS_RHmax         0.117853  0.196751  0.025792  0.178031  0.220668   \n",
       "LDAPS_Tmax_lapse   -0.160273 -0.042298  0.091107 -0.179766 -0.163123   \n",
       "LDAPS_Tmin_lapse   -0.094655 -0.096726 -0.026831 -0.196407 -0.186753   \n",
       "LDAPS_WS            0.144085  0.036836 -0.059756  0.191983  0.172464   \n",
       "LDAPS_LH            0.019979  0.133870  0.025948  0.055402  0.087203   \n",
       "LDAPS_CC1           0.091722 -0.008170 -0.006876 -0.014159 -0.020853   \n",
       "LDAPS_CC2           0.159548 -0.001505 -0.003599 -0.012886 -0.018161   \n",
       "LDAPS_CC3           0.302357  0.004128  0.016119  0.000701 -0.003355   \n",
       "LDAPS_CC4           0.376049 -0.009151 -0.002489 -0.007370 -0.014530   \n",
       "LDAPS_PPT1          0.024626  0.000568 -0.001231  0.011345  0.016389   \n",
       "LDAPS_PPT2          0.139555  0.019659  0.018690  0.008397  0.010264   \n",
       "LDAPS_PPT3          0.309076  0.035281  0.021767  0.017270  0.025456   \n",
       "LDAPS_PPT4          1.000000  0.013275  0.044963 -0.003640  0.000118   \n",
       "lat                 0.013275  1.000000  0.289029  0.033165  0.074763   \n",
       "lon                 0.044963  0.289029  1.000000  0.007587  0.038070   \n",
       "DEM                -0.003640  0.033165  0.007587  1.000000  0.783576   \n",
       "Slope               0.000118  0.074763  0.038070  0.783576  1.000000   \n",
       "Solar radiation     0.035060  0.038513  0.002182  0.056224  0.028199   \n",
       "Next_Tmax          -0.180669 -0.053567  0.003060 -0.172674 -0.102838   \n",
       "Next_Tmin          -0.104515 -0.083621 -0.046737 -0.247100 -0.147043   \n",
       "\n",
       "                  Solar radiation  Next_Tmax  Next_Tmin  \n",
       "station                 -0.019011   0.108306   0.128719  \n",
       "Present_Tmax            -0.025557   0.613109   0.625252  \n",
       "Present_Tmin             0.053828   0.473868   0.799758  \n",
       "LDAPS_RHmin              0.244795  -0.442958   0.095830  \n",
       "LDAPS_RHmax              0.149699  -0.286478  -0.072490  \n",
       "LDAPS_Tmax_lapse         0.048111   0.836144   0.591535  \n",
       "LDAPS_Tmin_lapse         0.160443   0.593195   0.886964  \n",
       "LDAPS_WS                 0.122116  -0.346592  -0.097390  \n",
       "LDAPS_LH                -0.047523   0.159324  -0.055895  \n",
       "LDAPS_CC1                0.218949  -0.457583  -0.011129  \n",
       "LDAPS_CC2                0.170903  -0.496251   0.031500  \n",
       "LDAPS_CC3                0.119642  -0.520706  -0.055217  \n",
       "LDAPS_CC4                0.120335  -0.451324  -0.085805  \n",
       "LDAPS_PPT1               0.088273  -0.120079   0.021486  \n",
       "LDAPS_PPT2               0.110505  -0.180449  -0.008131  \n",
       "LDAPS_PPT3              -0.054229  -0.196845  -0.063318  \n",
       "LDAPS_PPT4               0.035060  -0.180669  -0.104515  \n",
       "lat                      0.038513  -0.053567  -0.083621  \n",
       "lon                      0.002182   0.003060  -0.046737  \n",
       "DEM                      0.056224  -0.172674  -0.247100  \n",
       "Slope                    0.028199  -0.102838  -0.147043  \n",
       "Solar radiation          1.000000   0.008809   0.120400  \n",
       "Next_Tmax                0.008809   1.000000   0.621427  \n",
       "Next_Tmin                0.120400   0.621427   1.000000  \n",
       "\n",
       "[24 rows x 24 columns]"
      ]
     },
     "execution_count": 16,
     "metadata": {},
     "output_type": "execute_result"
    }
   ],
   "source": [
    "# checking for any highly correlated features in the dataset.\n",
    "df_corr=df.corr()\n",
    "df_corr"
   ]
  },
  {
   "cell_type": "code",
   "execution_count": 20,
   "metadata": {},
   "outputs": [
    {
     "data": {
      "image/png": "[encoded data removed]",
      "text/plain": [
       "<Figure size 1440x1440 with 2 Axes>"
      ]
     },
     "metadata": {
      "needs_background": "light"
     },
     "output_type": "display_data"
    }
   ],
   "source": [
    "#VIsualisation\n",
    "plt.figure(figsize=(20,20))\n",
    "# plotting the correlation heatmap\n",
    "sns.heatmap(df_corr,annot=True)\n",
    "plt.show()"
   ]
  },
  {
   "cell_type": "code",
   "execution_count": 22,
   "metadata": {},
   "outputs": [
    {
     "data": {
      "image/png": "[encoded data removed]",
      "text/plain": [
       "<Figure size 432x288 with 1 Axes>"
      ]
     },
     "metadata": {
      "needs_background": "light"
     },
     "output_type": "display_data"
    }
   ],
   "source": [
    "# plotting the correlation\n",
    "sns.distplot(df.corr())\n",
    "plt.show()"
   ]
  },
  {
   "cell_type": "markdown",
   "metadata": {},
   "source": [
    "* The dataset has a size of 7752 records over 25 columns .\n",
    "* There are Two Target variables\n",
    "* There are no highly correlated columns in the dataset.\n",
    "* The datasets looks to have outliers and have null values approx 1 percentper column"
   ]
  },
  {
   "cell_type": "code",
   "execution_count": 23,
   "metadata": {},
   "outputs": [
    {
     "data": {
      "text/html": [
       "<div>\n",
       "<style scoped>\n",
       "    .dataframe tbody tr th:only-of-type {\n",
       "        vertical-align: middle;\n",
       "    }\n",
       "\n",
       "    .dataframe tbody tr th {\n",
       "        vertical-align: top;\n",
       "    }\n",
       "\n",
       "    .dataframe thead th {\n",
       "        text-align: right;\n",
       "    }\n",
       "</style>\n",
       "<table border=\"1\" class=\"dataframe\">\n",
       "  <thead>\n",
       "    <tr style=\"text-align: right;\">\n",
       "      <th></th>\n",
       "      <th>station</th>\n",
       "      <th>Date</th>\n",
       "      <th>Present_Tmax</th>\n",
       "      <th>Present_Tmin</th>\n",
       "      <th>LDAPS_RHmin</th>\n",
       "      <th>LDAPS_RHmax</th>\n",
       "      <th>LDAPS_Tmax_lapse</th>\n",
       "      <th>LDAPS_Tmin_lapse</th>\n",
       "      <th>LDAPS_WS</th>\n",
       "      <th>LDAPS_LH</th>\n",
       "      <th>...</th>\n",
       "      <th>LDAPS_PPT2</th>\n",
       "      <th>LDAPS_PPT3</th>\n",
       "      <th>LDAPS_PPT4</th>\n",
       "      <th>lat</th>\n",
       "      <th>lon</th>\n",
       "      <th>DEM</th>\n",
       "      <th>Slope</th>\n",
       "      <th>Solar radiation</th>\n",
       "      <th>Next_Tmax</th>\n",
       "      <th>Next_Tmin</th>\n",
       "    </tr>\n",
       "  </thead>\n",
       "  <tbody>\n",
       "    <tr>\n",
       "      <th>1734</th>\n",
       "      <td>10.0</td>\n",
       "      <td>2014-07-07</td>\n",
       "      <td>31.8</td>\n",
       "      <td>18.0</td>\n",
       "      <td>59.952461</td>\n",
       "      <td>91.583237</td>\n",
       "      <td>27.783345</td>\n",
       "      <td>22.454596</td>\n",
       "      <td>5.924127</td>\n",
       "      <td>60.465162</td>\n",
       "      <td>...</td>\n",
       "      <td>0.083347</td>\n",
       "      <td>0.221836</td>\n",
       "      <td>0.000000</td>\n",
       "      <td>37.4562</td>\n",
       "      <td>126.955</td>\n",
       "      <td>208.5070</td>\n",
       "      <td>5.1782</td>\n",
       "      <td>5838.026855</td>\n",
       "      <td>29.4</td>\n",
       "      <td>21.6</td>\n",
       "    </tr>\n",
       "    <tr>\n",
       "      <th>1301</th>\n",
       "      <td>2.0</td>\n",
       "      <td>2013-08-21</td>\n",
       "      <td>32.5</td>\n",
       "      <td>21.4</td>\n",
       "      <td>45.903221</td>\n",
       "      <td>80.909042</td>\n",
       "      <td>34.048440</td>\n",
       "      <td>26.775254</td>\n",
       "      <td>5.353170</td>\n",
       "      <td>50.566296</td>\n",
       "      <td>...</td>\n",
       "      <td>0.000000</td>\n",
       "      <td>0.000000</td>\n",
       "      <td>0.000000</td>\n",
       "      <td>37.6046</td>\n",
       "      <td>127.032</td>\n",
       "      <td>44.7624</td>\n",
       "      <td>0.5141</td>\n",
       "      <td>4803.372070</td>\n",
       "      <td>33.0</td>\n",
       "      <td>24.2</td>\n",
       "    </tr>\n",
       "    <tr>\n",
       "      <th>7601</th>\n",
       "      <td>2.0</td>\n",
       "      <td>2017-08-25</td>\n",
       "      <td>29.5</td>\n",
       "      <td>20.5</td>\n",
       "      <td>34.619366</td>\n",
       "      <td>83.529198</td>\n",
       "      <td>28.849874</td>\n",
       "      <td>19.794748</td>\n",
       "      <td>6.002242</td>\n",
       "      <td>73.595390</td>\n",
       "      <td>...</td>\n",
       "      <td>0.000000</td>\n",
       "      <td>0.000000</td>\n",
       "      <td>0.000000</td>\n",
       "      <td>37.6046</td>\n",
       "      <td>127.032</td>\n",
       "      <td>44.7624</td>\n",
       "      <td>0.5141</td>\n",
       "      <td>4657.507813</td>\n",
       "      <td>28.4</td>\n",
       "      <td>16.9</td>\n",
       "    </tr>\n",
       "    <tr>\n",
       "      <th>5338</th>\n",
       "      <td>14.0</td>\n",
       "      <td>2016-07-27</td>\n",
       "      <td>29.2</td>\n",
       "      <td>26.2</td>\n",
       "      <td>56.603710</td>\n",
       "      <td>92.441231</td>\n",
       "      <td>29.948036</td>\n",
       "      <td>24.794770</td>\n",
       "      <td>7.385683</td>\n",
       "      <td>27.305806</td>\n",
       "      <td>...</td>\n",
       "      <td>0.288782</td>\n",
       "      <td>0.000000</td>\n",
       "      <td>0.000000</td>\n",
       "      <td>37.4967</td>\n",
       "      <td>126.927</td>\n",
       "      <td>30.9680</td>\n",
       "      <td>0.6180</td>\n",
       "      <td>5482.193848</td>\n",
       "      <td>30.7</td>\n",
       "      <td>26.6</td>\n",
       "    </tr>\n",
       "    <tr>\n",
       "      <th>5307</th>\n",
       "      <td>8.0</td>\n",
       "      <td>2016-07-26</td>\n",
       "      <td>31.0</td>\n",
       "      <td>25.9</td>\n",
       "      <td>74.959236</td>\n",
       "      <td>98.703102</td>\n",
       "      <td>28.101576</td>\n",
       "      <td>25.390562</td>\n",
       "      <td>8.645355</td>\n",
       "      <td>33.453835</td>\n",
       "      <td>...</td>\n",
       "      <td>1.591379</td>\n",
       "      <td>0.572578</td>\n",
       "      <td>0.193704</td>\n",
       "      <td>37.4697</td>\n",
       "      <td>126.910</td>\n",
       "      <td>52.5180</td>\n",
       "      <td>1.5629</td>\n",
       "      <td>5505.750000</td>\n",
       "      <td>29.2</td>\n",
       "      <td>26.5</td>\n",
       "    </tr>\n",
       "  </tbody>\n",
       "</table>\n",
       "<p>5 rows × 25 columns</p>\n",
       "</div>"
      ],
      "text/plain": [
       "      station       Date  Present_Tmax  Present_Tmin  LDAPS_RHmin  \\\n",
       "1734     10.0 2014-07-07          31.8          18.0    59.952461   \n",
       "1301      2.0 2013-08-21          32.5          21.4    45.903221   \n",
       "7601      2.0 2017-08-25          29.5          20.5    34.619366   \n",
       "5338     14.0 2016-07-27          29.2          26.2    56.603710   \n",
       "5307      8.0 2016-07-26          31.0          25.9    74.959236   \n",
       "\n",
       "      LDAPS_RHmax  LDAPS_Tmax_lapse  LDAPS_Tmin_lapse  LDAPS_WS   LDAPS_LH  \\\n",
       "1734    91.583237         27.783345         22.454596  5.924127  60.465162   \n",
       "1301    80.909042         34.048440         26.775254  5.353170  50.566296   \n",
       "7601    83.529198         28.849874         19.794748  6.002242  73.595390   \n",
       "5338    92.441231         29.948036         24.794770  7.385683  27.305806   \n",
       "5307    98.703102         28.101576         25.390562  8.645355  33.453835   \n",
       "\n",
       "      ...  LDAPS_PPT2  LDAPS_PPT3  LDAPS_PPT4      lat      lon       DEM  \\\n",
       "1734  ...    0.083347    0.221836    0.000000  37.4562  126.955  208.5070   \n",
       "1301  ...    0.000000    0.000000    0.000000  37.6046  127.032   44.7624   \n",
       "7601  ...    0.000000    0.000000    0.000000  37.6046  127.032   44.7624   \n",
       "5338  ...    0.288782    0.000000    0.000000  37.4967  126.927   30.9680   \n",
       "5307  ...    1.591379    0.572578    0.193704  37.4697  126.910   52.5180   \n",
       "\n",
       "       Slope  Solar radiation  Next_Tmax  Next_Tmin  \n",
       "1734  5.1782      5838.026855       29.4       21.6  \n",
       "1301  0.5141      4803.372070       33.0       24.2  \n",
       "7601  0.5141      4657.507813       28.4       16.9  \n",
       "5338  0.6180      5482.193848       30.7       26.6  \n",
       "5307  1.5629      5505.750000       29.2       26.5  \n",
       "\n",
       "[5 rows x 25 columns]"
      ]
     },
     "execution_count": 23,
     "metadata": {},
     "output_type": "execute_result"
    }
   ],
   "source": [
    "df.sample(5)"
   ]
  },
  {
   "cell_type": "code",
   "execution_count": null,
   "metadata": {},
   "outputs": [],
   "source": [
    "#UNIVARITE ANALYSIS"
   ]
  },
  {
   "cell_type": "code",
   "execution_count": 29,
   "metadata": {},
   "outputs": [
    {
     "data": {
      "image/png": "[encoded data removed]",
      "text/plain": [
       "<Figure size 432x288 with 1 Axes>"
      ]
     },
     "metadata": {
      "needs_background": "light"
     },
     "output_type": "display_data"
    }
   ],
   "source": [
    "#latitude and logitudes \n",
    "sns.scatterplot(df.lon,df.lat,s=100)\n",
    "plt.show()"
   ]
  },
  {
   "cell_type": "code",
   "execution_count": 30,
   "metadata": {},
   "outputs": [
    {
     "data": {
      "text/html": [
       "<div>\n",
       "<style scoped>\n",
       "    .dataframe tbody tr th:only-of-type {\n",
       "        vertical-align: middle;\n",
       "    }\n",
       "\n",
       "    .dataframe tbody tr th {\n",
       "        vertical-align: top;\n",
       "    }\n",
       "\n",
       "    .dataframe thead th {\n",
       "        text-align: right;\n",
       "    }\n",
       "</style>\n",
       "<table border=\"1\" class=\"dataframe\">\n",
       "  <thead>\n",
       "    <tr style=\"text-align: right;\">\n",
       "      <th></th>\n",
       "      <th>station</th>\n",
       "      <th>Date</th>\n",
       "      <th>Present_Tmax</th>\n",
       "      <th>Present_Tmin</th>\n",
       "      <th>LDAPS_RHmin</th>\n",
       "      <th>LDAPS_RHmax</th>\n",
       "      <th>LDAPS_Tmax_lapse</th>\n",
       "      <th>LDAPS_Tmin_lapse</th>\n",
       "      <th>LDAPS_WS</th>\n",
       "      <th>LDAPS_LH</th>\n",
       "      <th>...</th>\n",
       "      <th>LDAPS_PPT2</th>\n",
       "      <th>LDAPS_PPT3</th>\n",
       "      <th>LDAPS_PPT4</th>\n",
       "      <th>lat</th>\n",
       "      <th>lon</th>\n",
       "      <th>DEM</th>\n",
       "      <th>Slope</th>\n",
       "      <th>Solar radiation</th>\n",
       "      <th>Next_Tmax</th>\n",
       "      <th>Next_Tmin</th>\n",
       "    </tr>\n",
       "  </thead>\n",
       "  <tbody>\n",
       "    <tr>\n",
       "      <th>0</th>\n",
       "      <td>1.0</td>\n",
       "      <td>2013-06-30</td>\n",
       "      <td>28.7</td>\n",
       "      <td>21.4</td>\n",
       "      <td>58.255688</td>\n",
       "      <td>91.116364</td>\n",
       "      <td>28.074101</td>\n",
       "      <td>23.006936</td>\n",
       "      <td>6.818887</td>\n",
       "      <td>69.451805</td>\n",
       "      <td>...</td>\n",
       "      <td>0.000000</td>\n",
       "      <td>0.000000</td>\n",
       "      <td>0.000000</td>\n",
       "      <td>37.6046</td>\n",
       "      <td>126.991</td>\n",
       "      <td>212.3350</td>\n",
       "      <td>2.785000</td>\n",
       "      <td>5992.895996</td>\n",
       "      <td>29.1</td>\n",
       "      <td>21.2</td>\n",
       "    </tr>\n",
       "    <tr>\n",
       "      <th>1</th>\n",
       "      <td>2.0</td>\n",
       "      <td>2013-06-30</td>\n",
       "      <td>31.9</td>\n",
       "      <td>21.6</td>\n",
       "      <td>52.263397</td>\n",
       "      <td>90.604721</td>\n",
       "      <td>29.850689</td>\n",
       "      <td>24.035009</td>\n",
       "      <td>5.691890</td>\n",
       "      <td>51.937448</td>\n",
       "      <td>...</td>\n",
       "      <td>0.000000</td>\n",
       "      <td>0.000000</td>\n",
       "      <td>0.000000</td>\n",
       "      <td>37.6046</td>\n",
       "      <td>127.032</td>\n",
       "      <td>44.7624</td>\n",
       "      <td>0.514100</td>\n",
       "      <td>5869.312500</td>\n",
       "      <td>30.5</td>\n",
       "      <td>22.5</td>\n",
       "    </tr>\n",
       "    <tr>\n",
       "      <th>2</th>\n",
       "      <td>3.0</td>\n",
       "      <td>2013-06-30</td>\n",
       "      <td>31.6</td>\n",
       "      <td>23.3</td>\n",
       "      <td>48.690479</td>\n",
       "      <td>83.973587</td>\n",
       "      <td>30.091292</td>\n",
       "      <td>24.565633</td>\n",
       "      <td>6.138224</td>\n",
       "      <td>20.573050</td>\n",
       "      <td>...</td>\n",
       "      <td>0.000000</td>\n",
       "      <td>0.000000</td>\n",
       "      <td>0.000000</td>\n",
       "      <td>37.5776</td>\n",
       "      <td>127.058</td>\n",
       "      <td>33.3068</td>\n",
       "      <td>0.266100</td>\n",
       "      <td>5863.555664</td>\n",
       "      <td>31.1</td>\n",
       "      <td>23.9</td>\n",
       "    </tr>\n",
       "    <tr>\n",
       "      <th>3</th>\n",
       "      <td>4.0</td>\n",
       "      <td>2013-06-30</td>\n",
       "      <td>32.0</td>\n",
       "      <td>23.4</td>\n",
       "      <td>58.239788</td>\n",
       "      <td>96.483688</td>\n",
       "      <td>29.704629</td>\n",
       "      <td>23.326177</td>\n",
       "      <td>5.650050</td>\n",
       "      <td>65.727144</td>\n",
       "      <td>...</td>\n",
       "      <td>0.000000</td>\n",
       "      <td>0.000000</td>\n",
       "      <td>0.000000</td>\n",
       "      <td>37.6450</td>\n",
       "      <td>127.022</td>\n",
       "      <td>45.7160</td>\n",
       "      <td>2.534800</td>\n",
       "      <td>5856.964844</td>\n",
       "      <td>31.7</td>\n",
       "      <td>24.3</td>\n",
       "    </tr>\n",
       "    <tr>\n",
       "      <th>4</th>\n",
       "      <td>5.0</td>\n",
       "      <td>2013-06-30</td>\n",
       "      <td>31.4</td>\n",
       "      <td>21.9</td>\n",
       "      <td>56.174095</td>\n",
       "      <td>90.155128</td>\n",
       "      <td>29.113934</td>\n",
       "      <td>23.486480</td>\n",
       "      <td>5.735004</td>\n",
       "      <td>107.965535</td>\n",
       "      <td>...</td>\n",
       "      <td>0.000000</td>\n",
       "      <td>0.000000</td>\n",
       "      <td>0.000000</td>\n",
       "      <td>37.5507</td>\n",
       "      <td>127.135</td>\n",
       "      <td>35.0380</td>\n",
       "      <td>0.505500</td>\n",
       "      <td>5859.552246</td>\n",
       "      <td>31.2</td>\n",
       "      <td>22.5</td>\n",
       "    </tr>\n",
       "    <tr>\n",
       "      <th>...</th>\n",
       "      <td>...</td>\n",
       "      <td>...</td>\n",
       "      <td>...</td>\n",
       "      <td>...</td>\n",
       "      <td>...</td>\n",
       "      <td>...</td>\n",
       "      <td>...</td>\n",
       "      <td>...</td>\n",
       "      <td>...</td>\n",
       "      <td>...</td>\n",
       "      <td>...</td>\n",
       "      <td>...</td>\n",
       "      <td>...</td>\n",
       "      <td>...</td>\n",
       "      <td>...</td>\n",
       "      <td>...</td>\n",
       "      <td>...</td>\n",
       "      <td>...</td>\n",
       "      <td>...</td>\n",
       "      <td>...</td>\n",
       "      <td>...</td>\n",
       "    </tr>\n",
       "    <tr>\n",
       "      <th>7747</th>\n",
       "      <td>23.0</td>\n",
       "      <td>2017-08-30</td>\n",
       "      <td>23.3</td>\n",
       "      <td>17.1</td>\n",
       "      <td>26.741310</td>\n",
       "      <td>78.869858</td>\n",
       "      <td>26.352081</td>\n",
       "      <td>18.775678</td>\n",
       "      <td>6.148918</td>\n",
       "      <td>72.058294</td>\n",
       "      <td>...</td>\n",
       "      <td>0.000000</td>\n",
       "      <td>0.000000</td>\n",
       "      <td>0.000000</td>\n",
       "      <td>37.5372</td>\n",
       "      <td>126.891</td>\n",
       "      <td>15.5876</td>\n",
       "      <td>0.155400</td>\n",
       "      <td>4443.313965</td>\n",
       "      <td>28.3</td>\n",
       "      <td>18.1</td>\n",
       "    </tr>\n",
       "    <tr>\n",
       "      <th>7748</th>\n",
       "      <td>24.0</td>\n",
       "      <td>2017-08-30</td>\n",
       "      <td>23.3</td>\n",
       "      <td>17.7</td>\n",
       "      <td>24.040634</td>\n",
       "      <td>77.294975</td>\n",
       "      <td>27.010193</td>\n",
       "      <td>18.733519</td>\n",
       "      <td>6.542819</td>\n",
       "      <td>47.241457</td>\n",
       "      <td>...</td>\n",
       "      <td>0.000000</td>\n",
       "      <td>0.000000</td>\n",
       "      <td>0.000000</td>\n",
       "      <td>37.5237</td>\n",
       "      <td>126.909</td>\n",
       "      <td>17.2956</td>\n",
       "      <td>0.222300</td>\n",
       "      <td>4438.373535</td>\n",
       "      <td>28.6</td>\n",
       "      <td>18.8</td>\n",
       "    </tr>\n",
       "    <tr>\n",
       "      <th>7749</th>\n",
       "      <td>25.0</td>\n",
       "      <td>2017-08-30</td>\n",
       "      <td>23.2</td>\n",
       "      <td>17.4</td>\n",
       "      <td>22.933014</td>\n",
       "      <td>77.243744</td>\n",
       "      <td>27.939516</td>\n",
       "      <td>18.522965</td>\n",
       "      <td>7.289264</td>\n",
       "      <td>9.090034</td>\n",
       "      <td>...</td>\n",
       "      <td>0.000000</td>\n",
       "      <td>0.000000</td>\n",
       "      <td>0.000000</td>\n",
       "      <td>37.5237</td>\n",
       "      <td>126.970</td>\n",
       "      <td>19.5844</td>\n",
       "      <td>0.271300</td>\n",
       "      <td>4451.345215</td>\n",
       "      <td>27.8</td>\n",
       "      <td>17.4</td>\n",
       "    </tr>\n",
       "    <tr>\n",
       "      <th>7750</th>\n",
       "      <td>NaN</td>\n",
       "      <td>NaT</td>\n",
       "      <td>20.0</td>\n",
       "      <td>11.3</td>\n",
       "      <td>19.794666</td>\n",
       "      <td>58.936283</td>\n",
       "      <td>17.624954</td>\n",
       "      <td>14.272646</td>\n",
       "      <td>2.882580</td>\n",
       "      <td>-13.603212</td>\n",
       "      <td>...</td>\n",
       "      <td>0.000000</td>\n",
       "      <td>0.000000</td>\n",
       "      <td>0.000000</td>\n",
       "      <td>37.4562</td>\n",
       "      <td>126.826</td>\n",
       "      <td>12.3700</td>\n",
       "      <td>0.098475</td>\n",
       "      <td>4329.520508</td>\n",
       "      <td>17.4</td>\n",
       "      <td>11.3</td>\n",
       "    </tr>\n",
       "    <tr>\n",
       "      <th>7751</th>\n",
       "      <td>NaN</td>\n",
       "      <td>NaT</td>\n",
       "      <td>37.6</td>\n",
       "      <td>29.9</td>\n",
       "      <td>98.524734</td>\n",
       "      <td>100.000153</td>\n",
       "      <td>38.542255</td>\n",
       "      <td>29.619342</td>\n",
       "      <td>21.857621</td>\n",
       "      <td>213.414006</td>\n",
       "      <td>...</td>\n",
       "      <td>21.621661</td>\n",
       "      <td>15.841235</td>\n",
       "      <td>16.655469</td>\n",
       "      <td>37.6450</td>\n",
       "      <td>127.135</td>\n",
       "      <td>212.3350</td>\n",
       "      <td>5.178230</td>\n",
       "      <td>5992.895996</td>\n",
       "      <td>38.9</td>\n",
       "      <td>29.8</td>\n",
       "    </tr>\n",
       "  </tbody>\n",
       "</table>\n",
       "<p>7752 rows × 25 columns</p>\n",
       "</div>"
      ],
      "text/plain": [
       "      station       Date  Present_Tmax  Present_Tmin  LDAPS_RHmin  \\\n",
       "0         1.0 2013-06-30          28.7          21.4    58.255688   \n",
       "1         2.0 2013-06-30          31.9          21.6    52.263397   \n",
       "2         3.0 2013-06-30          31.6          23.3    48.690479   \n",
       "3         4.0 2013-06-30          32.0          23.4    58.239788   \n",
       "4         5.0 2013-06-30          31.4          21.9    56.174095   \n",
       "...       ...        ...           ...           ...          ...   \n",
       "7747     23.0 2017-08-30          23.3          17.1    26.741310   \n",
       "7748     24.0 2017-08-30          23.3          17.7    24.040634   \n",
       "7749     25.0 2017-08-30          23.2          17.4    22.933014   \n",
       "7750      NaN        NaT          20.0          11.3    19.794666   \n",
       "7751      NaN        NaT          37.6          29.9    98.524734   \n",
       "\n",
       "      LDAPS_RHmax  LDAPS_Tmax_lapse  LDAPS_Tmin_lapse   LDAPS_WS    LDAPS_LH  \\\n",
       "0       91.116364         28.074101         23.006936   6.818887   69.451805   \n",
       "1       90.604721         29.850689         24.035009   5.691890   51.937448   \n",
       "2       83.973587         30.091292         24.565633   6.138224   20.573050   \n",
       "3       96.483688         29.704629         23.326177   5.650050   65.727144   \n",
       "4       90.155128         29.113934         23.486480   5.735004  107.965535   \n",
       "...           ...               ...               ...        ...         ...   \n",
       "7747    78.869858         26.352081         18.775678   6.148918   72.058294   \n",
       "7748    77.294975         27.010193         18.733519   6.542819   47.241457   \n",
       "7749    77.243744         27.939516         18.522965   7.289264    9.090034   \n",
       "7750    58.936283         17.624954         14.272646   2.882580  -13.603212   \n",
       "7751   100.000153         38.542255         29.619342  21.857621  213.414006   \n",
       "\n",
       "      ...  LDAPS_PPT2  LDAPS_PPT3  LDAPS_PPT4      lat      lon       DEM  \\\n",
       "0     ...    0.000000    0.000000    0.000000  37.6046  126.991  212.3350   \n",
       "1     ...    0.000000    0.000000    0.000000  37.6046  127.032   44.7624   \n",
       "2     ...    0.000000    0.000000    0.000000  37.5776  127.058   33.3068   \n",
       "3     ...    0.000000    0.000000    0.000000  37.6450  127.022   45.7160   \n",
       "4     ...    0.000000    0.000000    0.000000  37.5507  127.135   35.0380   \n",
       "...   ...         ...         ...         ...      ...      ...       ...   \n",
       "7747  ...    0.000000    0.000000    0.000000  37.5372  126.891   15.5876   \n",
       "7748  ...    0.000000    0.000000    0.000000  37.5237  126.909   17.2956   \n",
       "7749  ...    0.000000    0.000000    0.000000  37.5237  126.970   19.5844   \n",
       "7750  ...    0.000000    0.000000    0.000000  37.4562  126.826   12.3700   \n",
       "7751  ...   21.621661   15.841235   16.655469  37.6450  127.135  212.3350   \n",
       "\n",
       "         Slope  Solar radiation  Next_Tmax  Next_Tmin  \n",
       "0     2.785000      5992.895996       29.1       21.2  \n",
       "1     0.514100      5869.312500       30.5       22.5  \n",
       "2     0.266100      5863.555664       31.1       23.9  \n",
       "3     2.534800      5856.964844       31.7       24.3  \n",
       "4     0.505500      5859.552246       31.2       22.5  \n",
       "...        ...              ...        ...        ...  \n",
       "7747  0.155400      4443.313965       28.3       18.1  \n",
       "7748  0.222300      4438.373535       28.6       18.8  \n",
       "7749  0.271300      4451.345215       27.8       17.4  \n",
       "7750  0.098475      4329.520508       17.4       11.3  \n",
       "7751  5.178230      5992.895996       38.9       29.8  \n",
       "\n",
       "[7752 rows x 25 columns]"
      ]
     },
     "execution_count": 30,
     "metadata": {},
     "output_type": "execute_result"
    }
   ],
   "source": [
    "# date\n",
    "df"
   ]
  },
  {
   "cell_type": "code",
   "execution_count": 32,
   "metadata": {},
   "outputs": [
    {
     "data": {
      "image/png": "[encoded data removed]",
      "text/plain": [
       "<Figure size 360x360 with 1 Axes>"
      ]
     },
     "metadata": {
      "needs_background": "light"
     },
     "output_type": "display_data"
    }
   ],
   "source": [
    "# stations\n",
    "sns.displot(df.station)\n",
    "plt.show()"
   ]
  },
  {
   "cell_type": "code",
   "execution_count": 33,
   "metadata": {},
   "outputs": [
    {
     "data": {
      "text/plain": [
       "<AxesSubplot:>"
      ]
     },
     "execution_count": 33,
     "metadata": {},
     "output_type": "execute_result"
    },
    {
     "data": {
      "image/png": "[encoded data removed]",
      "text/plain": [
       "<Figure size 432x288 with 1 Axes>"
      ]
     },
     "metadata": {
      "needs_background": "light"
     },
     "output_type": "display_data"
    }
   ],
   "source": [
    "# min and max temperature\n",
    "df[['Present_Tmax','Present_Tmin']].plot(kind='box')"
   ]
  },
  {
   "cell_type": "code",
   "execution_count": null,
   "metadata": {},
   "outputs": [],
   "source": [
    "#Dealing with  the missing values"
   ]
  },
  {
   "cell_type": "code",
   "execution_count": 36,
   "metadata": {},
   "outputs": [
    {
     "data": {
      "text/plain": [
       "['station',\n",
       " 'Present_Tmax',\n",
       " 'Present_Tmin',\n",
       " 'LDAPS_RHmin',\n",
       " 'LDAPS_RHmax',\n",
       " 'LDAPS_Tmax_lapse',\n",
       " 'LDAPS_Tmin_lapse',\n",
       " 'LDAPS_WS',\n",
       " 'LDAPS_LH',\n",
       " 'LDAPS_CC1',\n",
       " 'LDAPS_CC2',\n",
       " 'LDAPS_CC3',\n",
       " 'LDAPS_CC4',\n",
       " 'LDAPS_PPT1',\n",
       " 'LDAPS_PPT2',\n",
       " 'LDAPS_PPT3',\n",
       " 'LDAPS_PPT4',\n",
       " 'lat',\n",
       " 'lon',\n",
       " 'DEM',\n",
       " 'Slope',\n",
       " 'Solar radiation',\n",
       " 'Next_Tmax',\n",
       " 'Next_Tmin']"
      ]
     },
     "execution_count": 36,
     "metadata": {},
     "output_type": "execute_result"
    }
   ],
   "source": [
    "num_col"
   ]
  },
  {
   "cell_type": "code",
   "execution_count": 37,
   "metadata": {},
   "outputs": [],
   "source": [
    "# create a new dataframe for computatioonal Purposes.\n",
    "df_cleaned = df.copy()"
   ]
  },
  {
   "cell_type": "code",
   "execution_count": 38,
   "metadata": {},
   "outputs": [],
   "source": [
    "df_cleaned = df_cleaned.dropna() #as the missing data less tha 1 percent"
   ]
  },
  {
   "cell_type": "code",
   "execution_count": 39,
   "metadata": {},
   "outputs": [
    {
     "data": {
      "text/plain": [
       "station             0\n",
       "Date                0\n",
       "Present_Tmax        0\n",
       "Present_Tmin        0\n",
       "LDAPS_RHmin         0\n",
       "LDAPS_RHmax         0\n",
       "LDAPS_Tmax_lapse    0\n",
       "LDAPS_Tmin_lapse    0\n",
       "LDAPS_WS            0\n",
       "LDAPS_LH            0\n",
       "LDAPS_CC1           0\n",
       "LDAPS_CC2           0\n",
       "LDAPS_CC3           0\n",
       "LDAPS_CC4           0\n",
       "LDAPS_PPT1          0\n",
       "LDAPS_PPT2          0\n",
       "LDAPS_PPT3          0\n",
       "LDAPS_PPT4          0\n",
       "lat                 0\n",
       "lon                 0\n",
       "DEM                 0\n",
       "Slope               0\n",
       "Solar radiation     0\n",
       "Next_Tmax           0\n",
       "Next_Tmin           0\n",
       "dtype: int64"
      ]
     },
     "execution_count": 39,
     "metadata": {},
     "output_type": "execute_result"
    }
   ],
   "source": [
    "df_cleaned.isna().sum()"
   ]
  },
  {
   "cell_type": "code",
   "execution_count": 40,
   "metadata": {},
   "outputs": [
    {
     "data": {
      "image/png": "[encoded data removed]",
      "text/plain": [
       "<Figure size 360x360 with 1 Axes>"
      ]
     },
     "metadata": {
      "needs_background": "light"
     },
     "output_type": "display_data"
    },
    {
     "data": {
      "image/png": "[encoded data removed]",
      "text/plain": [
       "<Figure size 360x360 with 1 Axes>"
      ]
     },
     "metadata": {
      "needs_background": "light"
     },
     "output_type": "display_data"
    },
    {
     "data": {
      "image/png": "[encoded data removed]",
      "text/plain": [
       "<Figure size 360x360 with 1 Axes>"
      ]
     },
     "metadata": {
      "needs_background": "light"
     },
     "output_type": "display_data"
    },
    {
     "data": {
      "image/png": "[encoded data removed]",
      "text/plain": [
       "<Figure size 360x360 with 1 Axes>"
      ]
     },
     "metadata": {
      "needs_background": "light"
     },
     "output_type": "display_data"
    },
    {
     "data": {
      "image/png": "[encoded data removed]",
      "text/plain": [
       "<Figure size 360x360 with 1 Axes>"
      ]
     },
     "metadata": {
      "needs_background": "light"
     },
     "output_type": "display_data"
    },
    {
     "data": {
      "image/png": "[encoded data removed]",
      "text/plain": [
       "<Figure size 360x360 with 1 Axes>"
      ]
     },
     "metadata": {
      "needs_background": "light"
     },
     "output_type": "display_data"
    },
    {
     "data": {
      "image/png": "[encoded data removed]",
      "text/plain": [
       "<Figure size 360x360 with 1 Axes>"
      ]
     },
     "metadata": {
      "needs_background": "light"
     },
     "output_type": "display_data"
    },
    {
     "data": {
      "image/png": "[encoded data removed]",
      "text/plain": [
       "<Figure size 360x360 with 1 Axes>"
      ]
     },
     "metadata": {
      "needs_background": "light"
     },
     "output_type": "display_data"
    },
    {
     "data": {
      "image/png": "[encoded data removed]",
      "text/plain": [
       "<Figure size 360x360 with 1 Axes>"
      ]
     },
     "metadata": {
      "needs_background": "light"
     },
     "output_type": "display_data"
    },
    {
     "data": {
      "image/png": "[encoded data removed]",
      "text/plain": [
       "<Figure size 360x360 with 1 Axes>"
      ]
     },
     "metadata": {
      "needs_background": "light"
     },
     "output_type": "display_data"
    },
    {
     "data": {
      "image/png": "[encoded data removed]",
      "text/plain": [
       "<Figure size 360x360 with 1 Axes>"
      ]
     },
     "metadata": {
      "needs_background": "light"
     },
     "output_type": "display_data"
    },
    {
     "data": {
      "image/png": "[encoded data removed]",
      "text/plain": [
       "<Figure size 360x360 with 1 Axes>"
      ]
     },
     "metadata": {
      "needs_background": "light"
     },
     "output_type": "display_data"
    },
    {
     "data": {
      "image/png": "[encoded data removed]",
      "text/plain": [
       "<Figure size 360x360 with 1 Axes>"
      ]
     },
     "metadata": {
      "needs_background": "light"
     },
     "output_type": "display_data"
    },
    {
     "data": {
      "image/png": "[encoded data removed]",
      "text/plain": [
       "<Figure size 360x360 with 1 Axes>"
      ]
     },
     "metadata": {
      "needs_background": "light"
     },
     "output_type": "display_data"
    },
    {
     "data": {
      "image/png": "[encoded data removed]",
      "text/plain": [
       "<Figure size 360x360 with 1 Axes>"
      ]
     },
     "metadata": {
      "needs_background": "light"
     },
     "output_type": "display_data"
    },
    {
     "data": {
      "image/png": "[encoded data removed]",
      "text/plain": [
       "<Figure size 360x360 with 1 Axes>"
      ]
     },
     "metadata": {
      "needs_background": "light"
     },
     "output_type": "display_data"
    },
    {
     "data": {
      "image/png": "[encoded data removed]",
      "text/plain": [
       "<Figure size 360x360 with 1 Axes>"
      ]
     },
     "metadata": {
      "needs_background": "light"
     },
     "output_type": "display_data"
    },
    {
     "data": {
      "image/png": "[encoded data removed]",
      "text/plain": [
       "<Figure size 360x360 with 1 Axes>"
      ]
     },
     "metadata": {
      "needs_background": "light"
     },
     "output_type": "display_data"
    },
    {
     "data": {
      "image/png": "[encoded data removed]",
      "text/plain": [
       "<Figure size 360x360 with 1 Axes>"
      ]
     },
     "metadata": {
      "needs_background": "light"
     },
     "output_type": "display_data"
    },
    {
     "data": {
      "image/png": "[encoded data removed]",
      "text/plain": [
       "<Figure size 360x360 with 1 Axes>"
      ]
     },
     "metadata": {
      "needs_background": "light"
     },
     "output_type": "display_data"
    },
    {
     "data": {
      "image/png": "[encoded data removed]",
      "text/plain": [
       "<Figure size 360x360 with 1 Axes>"
      ]
     },
     "metadata": {
      "needs_background": "light"
     },
     "output_type": "display_data"
    },
    {
     "data": {
      "image/png": "[encoded data removed]",
      "text/plain": [
       "<Figure size 360x360 with 1 Axes>"
      ]
     },
     "metadata": {
      "needs_background": "light"
     },
     "output_type": "display_data"
    },
    {
     "data": {
      "image/png": "[encoded data removed]",
      "text/plain": [
       "<Figure size 360x360 with 1 Axes>"
      ]
     },
     "metadata": {
      "needs_background": "light"
     },
     "output_type": "display_data"
    },
    {
     "data": {
      "image/png": "[encoded data removed]",
      "text/plain": [
       "<Figure size 360x360 with 1 Axes>"
      ]
     },
     "metadata": {
      "needs_background": "light"
     },
     "output_type": "display_data"
    }
   ],
   "source": [
    "#Outlier removal\n",
    "\n",
    "for i in num_col:\n",
    "    plt.figure(figsize=(5,5))\n",
    "    sns.boxplot(df_cleaned[i])\n",
    "    plt.show()"
   ]
  },
  {
   "cell_type": "code",
   "execution_count": 41,
   "metadata": {},
   "outputs": [],
   "source": [
    "#Dealing with  outliers using z score\n",
    "z_scores = stats.zscore(df_cleaned[num_var])\n",
    "\n",
    "abs_z_scores = np.abs(z_scores)\n",
    "\n",
    "filtered_entries = (abs_z_scores < 3).all(axis=1)\n",
    "\n",
    "df_cleaned = df_cleaned[filtered_entries]"
   ]
  },
  {
   "cell_type": "code",
   "execution_count": 43,
   "metadata": {},
   "outputs": [
    {
     "data": {
      "image/png": "[encoded data removed]",
      "text/plain": [
       "<Figure size 720x360 with 2 Axes>"
      ]
     },
     "metadata": {
      "needs_background": "light"
     },
     "output_type": "display_data"
    },
    {
     "data": {
      "image/png": "[encoded data removed]",
      "text/plain": [
       "<Figure size 720x360 with 2 Axes>"
      ]
     },
     "metadata": {
      "needs_background": "light"
     },
     "output_type": "display_data"
    },
    {
     "data": {
      "image/png": "[encoded data removed]",
      "text/plain": [
       "<Figure size 720x360 with 2 Axes>"
      ]
     },
     "metadata": {
      "needs_background": "light"
     },
     "output_type": "display_data"
    },
    {
     "data": {
      "image/png": "[encoded data removed]",
      "text/plain": [
       "<Figure size 720x360 with 2 Axes>"
      ]
     },
     "metadata": {
      "needs_background": "light"
     },
     "output_type": "display_data"
    },
    {
     "data": {
      "image/png": "[encoded data removed]",
      "text/plain": [
       "<Figure size 720x360 with 2 Axes>"
      ]
     },
     "metadata": {
      "needs_background": "light"
     },
     "output_type": "display_data"
    },
    {
     "data": {
      "image/png": "[encoded data removed]",
      "text/plain": [
       "<Figure size 720x360 with 2 Axes>"
      ]
     },
     "metadata": {
      "needs_background": "light"
     },
     "output_type": "display_data"
    },
    {
     "data": {
      "image/png": "[encoded data removed]",
      "text/plain": [
       "<Figure size 720x360 with 2 Axes>"
      ]
     },
     "metadata": {
      "needs_background": "light"
     },
     "output_type": "display_data"
    },
    {
     "data": {
      "image/png": "[encoded data removed]",
      "text/plain": [
       "<Figure size 720x360 with 2 Axes>"
      ]
     },
     "metadata": {
      "needs_background": "light"
     },
     "output_type": "display_data"
    },
    {
     "data": {
      "image/png": "[encoded data removed]",
      "text/plain": [
       "<Figure size 720x360 with 2 Axes>"
      ]
     },
     "metadata": {
      "needs_background": "light"
     },
     "output_type": "display_data"
    },
    {
     "data": {
      "image/png": "[encoded data removed]",
      "text/plain": [
       "<Figure size 720x360 with 2 Axes>"
      ]
     },
     "metadata": {
      "needs_background": "light"
     },
     "output_type": "display_data"
    },
    {
     "data": {
      "image/png": "[encoded data removed]",
      "text/plain": [
       "<Figure size 720x360 with 2 Axes>"
      ]
     },
     "metadata": {
      "needs_background": "light"
     },
     "output_type": "display_data"
    },
    {
     "data": {
      "image/png": "[encoded data removed]",
      "text/plain": [
       "<Figure size 720x360 with 2 Axes>"
      ]
     },
     "metadata": {
      "needs_background": "light"
     },
     "output_type": "display_data"
    },
    {
     "data": {
      "image/png": "[encoded data removed]",
      "text/plain": [
       "<Figure size 720x360 with 2 Axes>"
      ]
     },
     "metadata": {
      "needs_background": "light"
     },
     "output_type": "display_data"
    },
    {
     "data": {
      "image/png": "[encoded data removed]",
      "text/plain": [
       "<Figure size 720x360 with 2 Axes>"
      ]
     },
     "metadata": {
      "needs_background": "light"
     },
     "output_type": "display_data"
    },
    {
     "data": {
      "image/png": "[encoded data removed]",
      "text/plain": [
       "<Figure size 720x360 with 2 Axes>"
      ]
     },
     "metadata": {
      "needs_background": "light"
     },
     "output_type": "display_data"
    },
    {
     "data": {
      "image/png": "[encoded data removed]",
      "text/plain": [
       "<Figure size 720x360 with 2 Axes>"
      ]
     },
     "metadata": {
      "needs_background": "light"
     },
     "output_type": "display_data"
    },
    {
     "data": {
      "image/png": "[encoded data removed]",
      "text/plain": [
       "<Figure size 720x360 with 2 Axes>"
      ]
     },
     "metadata": {
      "needs_background": "light"
     },
     "output_type": "display_data"
    },
    {
     "data": {
      "image/png": "[encoded data removed]",
      "text/plain": [
       "<Figure size 720x360 with 2 Axes>"
      ]
     },
     "metadata": {
      "needs_background": "light"
     },
     "output_type": "display_data"
    },
    {
     "data": {
      "image/png": "[encoded data removed]",
      "text/plain": [
       "<Figure size 720x360 with 2 Axes>"
      ]
     },
     "metadata": {
      "needs_background": "light"
     },
     "output_type": "display_data"
    },
    {
     "data": {
      "image/png": "[encoded data removed]",
      "text/plain": [
       "<Figure size 720x360 with 2 Axes>"
      ]
     },
     "metadata": {
      "needs_background": "light"
     },
     "output_type": "display_data"
    },
    {
     "data": {
      "image/png": "[encoded data removed]",
      "text/plain": [
       "<Figure size 720x360 with 2 Axes>"
      ]
     },
     "metadata": {
      "needs_background": "light"
     },
     "output_type": "display_data"
    },
    {
     "data": {
      "image/png": "[encoded data removed]",
      "text/plain": [
       "<Figure size 720x360 with 2 Axes>"
      ]
     },
     "metadata": {
      "needs_background": "light"
     },
     "output_type": "display_data"
    },
    {
     "data": {
      "image/png": "[encoded data removed]",
      "text/plain": [
       "<Figure size 720x360 with 2 Axes>"
      ]
     },
     "metadata": {
      "needs_background": "light"
     },
     "output_type": "display_data"
    },
    {
     "data": {
      "image/png": "[encoded data removed]",
      "text/plain": [
       "<Figure size 720x360 with 2 Axes>"
      ]
     },
     "metadata": {
      "needs_background": "light"
     },
     "output_type": "display_data"
    }
   ],
   "source": [
    "for i in num_var:\n",
    "    fig =  plt.figure(figsize=(10,5))\n",
    "    \n",
    "    fig.add_subplot(121)\n",
    "    sns.boxplot(df[i])\n",
    "    plt.title('with outliers')\n",
    "    fig.add_subplot(122)\n",
    "    sns.boxplot(df_cleaned[i])\n",
    "    plt.title('with outliers')"
   ]
  },
  {
   "cell_type": "code",
   "execution_count": 45,
   "metadata": {},
   "outputs": [
    {
     "data": {
      "text/plain": [
       "station            -0.001594\n",
       "Present_Tmax       -0.269936\n",
       "Present_Tmin       -0.221250\n",
       "LDAPS_RHmin         0.309567\n",
       "LDAPS_RHmax        -0.686083\n",
       "LDAPS_Tmax_lapse   -0.110563\n",
       "LDAPS_Tmin_lapse   -0.379269\n",
       "LDAPS_WS            1.085685\n",
       "LDAPS_LH            0.567050\n",
       "LDAPS_CC1           0.594835\n",
       "LDAPS_CC2           0.505774\n",
       "LDAPS_CC3           0.701288\n",
       "LDAPS_CC4           0.708754\n",
       "LDAPS_PPT1          3.724580\n",
       "LDAPS_PPT2          4.854967\n",
       "LDAPS_PPT3          5.516862\n",
       "LDAPS_PPT4          5.924324\n",
       "lat                 0.106983\n",
       "lon                -0.277547\n",
       "DEM                 1.764698\n",
       "Slope               1.590130\n",
       "Solar radiation    -0.520157\n",
       "Next_Tmax          -0.267526\n",
       "Next_Tmin          -0.234328\n",
       "dtype: float64"
      ]
     },
     "execution_count": 45,
     "metadata": {},
     "output_type": "execute_result"
    }
   ],
   "source": [
    "#Outliers removed\n",
    "#Checking for skewness\n",
    "df_cleaned.skew()"
   ]
  },
  {
   "cell_type": "code",
   "execution_count": 46,
   "metadata": {},
   "outputs": [],
   "source": [
    "#Dates  into diff parts \n",
    "df_cleaned['Month'] = df_cleaned.Date.apply(lambda x : x.month_name())\n",
    "df_cleaned['Year'] = df_cleaned.Date.apply(lambda x:x.year )"
   ]
  },
  {
   "cell_type": "code",
   "execution_count": 47,
   "metadata": {},
   "outputs": [
    {
     "data": {
      "text/html": [
       "<div>\n",
       "<style scoped>\n",
       "    .dataframe tbody tr th:only-of-type {\n",
       "        vertical-align: middle;\n",
       "    }\n",
       "\n",
       "    .dataframe tbody tr th {\n",
       "        vertical-align: top;\n",
       "    }\n",
       "\n",
       "    .dataframe thead th {\n",
       "        text-align: right;\n",
       "    }\n",
       "</style>\n",
       "<table border=\"1\" class=\"dataframe\">\n",
       "  <thead>\n",
       "    <tr style=\"text-align: right;\">\n",
       "      <th></th>\n",
       "      <th>Present_Tmax</th>\n",
       "      <th>Present_Tmin</th>\n",
       "      <th>LDAPS_RHmin</th>\n",
       "      <th>LDAPS_RHmax</th>\n",
       "      <th>LDAPS_Tmax_lapse</th>\n",
       "      <th>LDAPS_Tmin_lapse</th>\n",
       "      <th>LDAPS_WS</th>\n",
       "      <th>LDAPS_LH</th>\n",
       "      <th>LDAPS_CC1</th>\n",
       "      <th>LDAPS_CC2</th>\n",
       "      <th>...</th>\n",
       "      <th>LDAPS_PPT4</th>\n",
       "      <th>lat</th>\n",
       "      <th>lon</th>\n",
       "      <th>DEM</th>\n",
       "      <th>Slope</th>\n",
       "      <th>Solar radiation</th>\n",
       "      <th>Next_Tmax</th>\n",
       "      <th>Next_Tmin</th>\n",
       "      <th>Month</th>\n",
       "      <th>Year</th>\n",
       "    </tr>\n",
       "  </thead>\n",
       "  <tbody>\n",
       "    <tr>\n",
       "      <th>2395</th>\n",
       "      <td>33.8</td>\n",
       "      <td>28.6</td>\n",
       "      <td>54.375328</td>\n",
       "      <td>87.397202</td>\n",
       "      <td>31.063539</td>\n",
       "      <td>25.125135</td>\n",
       "      <td>11.564225</td>\n",
       "      <td>75.201684</td>\n",
       "      <td>0.682432</td>\n",
       "      <td>0.487378</td>\n",
       "      <td>...</td>\n",
       "      <td>0.047530</td>\n",
       "      <td>37.5507</td>\n",
       "      <td>127.040</td>\n",
       "      <td>26.2980</td>\n",
       "      <td>0.5721</td>\n",
       "      <td>5370.370605</td>\n",
       "      <td>29.7</td>\n",
       "      <td>24.6</td>\n",
       "      <td>February</td>\n",
       "      <td>2014</td>\n",
       "    </tr>\n",
       "    <tr>\n",
       "      <th>5200</th>\n",
       "      <td>30.1</td>\n",
       "      <td>22.6</td>\n",
       "      <td>67.552711</td>\n",
       "      <td>86.601608</td>\n",
       "      <td>28.037817</td>\n",
       "      <td>23.385106</td>\n",
       "      <td>9.033499</td>\n",
       "      <td>87.313557</td>\n",
       "      <td>0.422547</td>\n",
       "      <td>0.761692</td>\n",
       "      <td>...</td>\n",
       "      <td>0.000000</td>\n",
       "      <td>37.6046</td>\n",
       "      <td>126.991</td>\n",
       "      <td>212.3350</td>\n",
       "      <td>2.7850</td>\n",
       "      <td>5728.645020</td>\n",
       "      <td>29.0</td>\n",
       "      <td>24.0</td>\n",
       "      <td>July</td>\n",
       "      <td>2016</td>\n",
       "    </tr>\n",
       "    <tr>\n",
       "      <th>7443</th>\n",
       "      <td>30.0</td>\n",
       "      <td>23.3</td>\n",
       "      <td>50.296509</td>\n",
       "      <td>82.906784</td>\n",
       "      <td>31.180343</td>\n",
       "      <td>23.353450</td>\n",
       "      <td>7.163996</td>\n",
       "      <td>60.128060</td>\n",
       "      <td>0.314319</td>\n",
       "      <td>0.233212</td>\n",
       "      <td>...</td>\n",
       "      <td>0.239443</td>\n",
       "      <td>37.5776</td>\n",
       "      <td>126.938</td>\n",
       "      <td>75.0924</td>\n",
       "      <td>1.7678</td>\n",
       "      <td>4938.088379</td>\n",
       "      <td>28.6</td>\n",
       "      <td>22.9</td>\n",
       "      <td>August</td>\n",
       "      <td>2017</td>\n",
       "    </tr>\n",
       "    <tr>\n",
       "      <th>4439</th>\n",
       "      <td>29.3</td>\n",
       "      <td>23.1</td>\n",
       "      <td>37.000286</td>\n",
       "      <td>75.067993</td>\n",
       "      <td>32.195848</td>\n",
       "      <td>23.207335</td>\n",
       "      <td>5.345282</td>\n",
       "      <td>30.729012</td>\n",
       "      <td>0.198768</td>\n",
       "      <td>0.017170</td>\n",
       "      <td>...</td>\n",
       "      <td>0.000000</td>\n",
       "      <td>37.5507</td>\n",
       "      <td>126.937</td>\n",
       "      <td>30.0464</td>\n",
       "      <td>0.8552</td>\n",
       "      <td>4772.682617</td>\n",
       "      <td>31.6</td>\n",
       "      <td>21.6</td>\n",
       "      <td>August</td>\n",
       "      <td>2015</td>\n",
       "    </tr>\n",
       "    <tr>\n",
       "      <th>6338</th>\n",
       "      <td>31.6</td>\n",
       "      <td>23.6</td>\n",
       "      <td>42.474598</td>\n",
       "      <td>88.443092</td>\n",
       "      <td>33.907473</td>\n",
       "      <td>25.434385</td>\n",
       "      <td>6.900923</td>\n",
       "      <td>36.104884</td>\n",
       "      <td>0.014932</td>\n",
       "      <td>0.018506</td>\n",
       "      <td>...</td>\n",
       "      <td>0.133790</td>\n",
       "      <td>37.4967</td>\n",
       "      <td>126.927</td>\n",
       "      <td>30.9680</td>\n",
       "      <td>0.6180</td>\n",
       "      <td>5825.110352</td>\n",
       "      <td>34.6</td>\n",
       "      <td>23.6</td>\n",
       "      <td>May</td>\n",
       "      <td>2017</td>\n",
       "    </tr>\n",
       "  </tbody>\n",
       "</table>\n",
       "<p>5 rows × 25 columns</p>\n",
       "</div>"
      ],
      "text/plain": [
       "      Present_Tmax  Present_Tmin  LDAPS_RHmin  LDAPS_RHmax  LDAPS_Tmax_lapse  \\\n",
       "2395          33.8          28.6    54.375328    87.397202         31.063539   \n",
       "5200          30.1          22.6    67.552711    86.601608         28.037817   \n",
       "7443          30.0          23.3    50.296509    82.906784         31.180343   \n",
       "4439          29.3          23.1    37.000286    75.067993         32.195848   \n",
       "6338          31.6          23.6    42.474598    88.443092         33.907473   \n",
       "\n",
       "      LDAPS_Tmin_lapse   LDAPS_WS   LDAPS_LH  LDAPS_CC1  LDAPS_CC2  ...  \\\n",
       "2395         25.125135  11.564225  75.201684   0.682432   0.487378  ...   \n",
       "5200         23.385106   9.033499  87.313557   0.422547   0.761692  ...   \n",
       "7443         23.353450   7.163996  60.128060   0.314319   0.233212  ...   \n",
       "4439         23.207335   5.345282  30.729012   0.198768   0.017170  ...   \n",
       "6338         25.434385   6.900923  36.104884   0.014932   0.018506  ...   \n",
       "\n",
       "      LDAPS_PPT4      lat      lon       DEM   Slope  Solar radiation  \\\n",
       "2395    0.047530  37.5507  127.040   26.2980  0.5721      5370.370605   \n",
       "5200    0.000000  37.6046  126.991  212.3350  2.7850      5728.645020   \n",
       "7443    0.239443  37.5776  126.938   75.0924  1.7678      4938.088379   \n",
       "4439    0.000000  37.5507  126.937   30.0464  0.8552      4772.682617   \n",
       "6338    0.133790  37.4967  126.927   30.9680  0.6180      5825.110352   \n",
       "\n",
       "      Next_Tmax  Next_Tmin     Month  Year  \n",
       "2395       29.7       24.6  February  2014  \n",
       "5200       29.0       24.0      July  2016  \n",
       "7443       28.6       22.9    August  2017  \n",
       "4439       31.6       21.6    August  2015  \n",
       "6338       34.6       23.6       May  2017  \n",
       "\n",
       "[5 rows x 25 columns]"
      ]
     },
     "execution_count": 47,
     "metadata": {},
     "output_type": "execute_result"
    }
   ],
   "source": [
    "#Drop Station and Date as we are usind Date in diff wasy and statipon is not required \n",
    "df_cleaned.drop(['station','Date'],1,inplace=True)\n",
    "df_cleaned.sample(5)"
   ]
  },
  {
   "cell_type": "code",
   "execution_count": 48,
   "metadata": {},
   "outputs": [],
   "source": [
    "# ENCODING \n",
    "from sklearn.preprocessing import LabelEncoder\n",
    "\n",
    "lab_enc =LabelEncoder()"
   ]
  },
  {
   "cell_type": "code",
   "execution_count": 50,
   "metadata": {},
   "outputs": [],
   "source": [
    "df_cleaned['Month']=lab_enc.fit_transform(df_cleaned['Month'])"
   ]
  },
  {
   "cell_type": "code",
   "execution_count": 51,
   "metadata": {},
   "outputs": [
    {
     "data": {
      "text/html": [
       "<div>\n",
       "<style scoped>\n",
       "    .dataframe tbody tr th:only-of-type {\n",
       "        vertical-align: middle;\n",
       "    }\n",
       "\n",
       "    .dataframe tbody tr th {\n",
       "        vertical-align: top;\n",
       "    }\n",
       "\n",
       "    .dataframe thead th {\n",
       "        text-align: right;\n",
       "    }\n",
       "</style>\n",
       "<table border=\"1\" class=\"dataframe\">\n",
       "  <thead>\n",
       "    <tr style=\"text-align: right;\">\n",
       "      <th></th>\n",
       "      <th>Present_Tmax</th>\n",
       "      <th>Present_Tmin</th>\n",
       "      <th>LDAPS_RHmin</th>\n",
       "      <th>LDAPS_RHmax</th>\n",
       "      <th>LDAPS_Tmax_lapse</th>\n",
       "      <th>LDAPS_Tmin_lapse</th>\n",
       "      <th>LDAPS_WS</th>\n",
       "      <th>LDAPS_LH</th>\n",
       "      <th>LDAPS_CC1</th>\n",
       "      <th>LDAPS_CC2</th>\n",
       "      <th>...</th>\n",
       "      <th>LDAPS_PPT4</th>\n",
       "      <th>lat</th>\n",
       "      <th>lon</th>\n",
       "      <th>DEM</th>\n",
       "      <th>Slope</th>\n",
       "      <th>Solar radiation</th>\n",
       "      <th>Next_Tmax</th>\n",
       "      <th>Next_Tmin</th>\n",
       "      <th>Month</th>\n",
       "      <th>Year</th>\n",
       "    </tr>\n",
       "  </thead>\n",
       "  <tbody>\n",
       "    <tr>\n",
       "      <th>0</th>\n",
       "      <td>28.7</td>\n",
       "      <td>21.4</td>\n",
       "      <td>58.255688</td>\n",
       "      <td>91.116364</td>\n",
       "      <td>28.074101</td>\n",
       "      <td>23.006936</td>\n",
       "      <td>6.818887</td>\n",
       "      <td>69.451805</td>\n",
       "      <td>0.233947</td>\n",
       "      <td>0.203896</td>\n",
       "      <td>...</td>\n",
       "      <td>0.0</td>\n",
       "      <td>37.6046</td>\n",
       "      <td>126.991</td>\n",
       "      <td>212.3350</td>\n",
       "      <td>2.7850</td>\n",
       "      <td>5992.895996</td>\n",
       "      <td>29.1</td>\n",
       "      <td>21.2</td>\n",
       "      <td>6</td>\n",
       "      <td>2013</td>\n",
       "    </tr>\n",
       "    <tr>\n",
       "      <th>1</th>\n",
       "      <td>31.9</td>\n",
       "      <td>21.6</td>\n",
       "      <td>52.263397</td>\n",
       "      <td>90.604721</td>\n",
       "      <td>29.850689</td>\n",
       "      <td>24.035009</td>\n",
       "      <td>5.691890</td>\n",
       "      <td>51.937448</td>\n",
       "      <td>0.225508</td>\n",
       "      <td>0.251771</td>\n",
       "      <td>...</td>\n",
       "      <td>0.0</td>\n",
       "      <td>37.6046</td>\n",
       "      <td>127.032</td>\n",
       "      <td>44.7624</td>\n",
       "      <td>0.5141</td>\n",
       "      <td>5869.312500</td>\n",
       "      <td>30.5</td>\n",
       "      <td>22.5</td>\n",
       "      <td>6</td>\n",
       "      <td>2013</td>\n",
       "    </tr>\n",
       "    <tr>\n",
       "      <th>2</th>\n",
       "      <td>31.6</td>\n",
       "      <td>23.3</td>\n",
       "      <td>48.690479</td>\n",
       "      <td>83.973587</td>\n",
       "      <td>30.091292</td>\n",
       "      <td>24.565633</td>\n",
       "      <td>6.138224</td>\n",
       "      <td>20.573050</td>\n",
       "      <td>0.209344</td>\n",
       "      <td>0.257469</td>\n",
       "      <td>...</td>\n",
       "      <td>0.0</td>\n",
       "      <td>37.5776</td>\n",
       "      <td>127.058</td>\n",
       "      <td>33.3068</td>\n",
       "      <td>0.2661</td>\n",
       "      <td>5863.555664</td>\n",
       "      <td>31.1</td>\n",
       "      <td>23.9</td>\n",
       "      <td>6</td>\n",
       "      <td>2013</td>\n",
       "    </tr>\n",
       "    <tr>\n",
       "      <th>3</th>\n",
       "      <td>32.0</td>\n",
       "      <td>23.4</td>\n",
       "      <td>58.239788</td>\n",
       "      <td>96.483688</td>\n",
       "      <td>29.704629</td>\n",
       "      <td>23.326177</td>\n",
       "      <td>5.650050</td>\n",
       "      <td>65.727144</td>\n",
       "      <td>0.216372</td>\n",
       "      <td>0.226002</td>\n",
       "      <td>...</td>\n",
       "      <td>0.0</td>\n",
       "      <td>37.6450</td>\n",
       "      <td>127.022</td>\n",
       "      <td>45.7160</td>\n",
       "      <td>2.5348</td>\n",
       "      <td>5856.964844</td>\n",
       "      <td>31.7</td>\n",
       "      <td>24.3</td>\n",
       "      <td>6</td>\n",
       "      <td>2013</td>\n",
       "    </tr>\n",
       "    <tr>\n",
       "      <th>4</th>\n",
       "      <td>31.4</td>\n",
       "      <td>21.9</td>\n",
       "      <td>56.174095</td>\n",
       "      <td>90.155128</td>\n",
       "      <td>29.113934</td>\n",
       "      <td>23.486480</td>\n",
       "      <td>5.735004</td>\n",
       "      <td>107.965535</td>\n",
       "      <td>0.151407</td>\n",
       "      <td>0.249995</td>\n",
       "      <td>...</td>\n",
       "      <td>0.0</td>\n",
       "      <td>37.5507</td>\n",
       "      <td>127.135</td>\n",
       "      <td>35.0380</td>\n",
       "      <td>0.5055</td>\n",
       "      <td>5859.552246</td>\n",
       "      <td>31.2</td>\n",
       "      <td>22.5</td>\n",
       "      <td>6</td>\n",
       "      <td>2013</td>\n",
       "    </tr>\n",
       "  </tbody>\n",
       "</table>\n",
       "<p>5 rows × 25 columns</p>\n",
       "</div>"
      ],
      "text/plain": [
       "   Present_Tmax  Present_Tmin  LDAPS_RHmin  LDAPS_RHmax  LDAPS_Tmax_lapse  \\\n",
       "0          28.7          21.4    58.255688    91.116364         28.074101   \n",
       "1          31.9          21.6    52.263397    90.604721         29.850689   \n",
       "2          31.6          23.3    48.690479    83.973587         30.091292   \n",
       "3          32.0          23.4    58.239788    96.483688         29.704629   \n",
       "4          31.4          21.9    56.174095    90.155128         29.113934   \n",
       "\n",
       "   LDAPS_Tmin_lapse  LDAPS_WS    LDAPS_LH  LDAPS_CC1  LDAPS_CC2  ...  \\\n",
       "0         23.006936  6.818887   69.451805   0.233947   0.203896  ...   \n",
       "1         24.035009  5.691890   51.937448   0.225508   0.251771  ...   \n",
       "2         24.565633  6.138224   20.573050   0.209344   0.257469  ...   \n",
       "3         23.326177  5.650050   65.727144   0.216372   0.226002  ...   \n",
       "4         23.486480  5.735004  107.965535   0.151407   0.249995  ...   \n",
       "\n",
       "   LDAPS_PPT4      lat      lon       DEM   Slope  Solar radiation  Next_Tmax  \\\n",
       "0         0.0  37.6046  126.991  212.3350  2.7850      5992.895996       29.1   \n",
       "1         0.0  37.6046  127.032   44.7624  0.5141      5869.312500       30.5   \n",
       "2         0.0  37.5776  127.058   33.3068  0.2661      5863.555664       31.1   \n",
       "3         0.0  37.6450  127.022   45.7160  2.5348      5856.964844       31.7   \n",
       "4         0.0  37.5507  127.135   35.0380  0.5055      5859.552246       31.2   \n",
       "\n",
       "   Next_Tmin  Month  Year  \n",
       "0       21.2      6  2013  \n",
       "1       22.5      6  2013  \n",
       "2       23.9      6  2013  \n",
       "3       24.3      6  2013  \n",
       "4       22.5      6  2013  \n",
       "\n",
       "[5 rows x 25 columns]"
      ]
     },
     "execution_count": 51,
     "metadata": {},
     "output_type": "execute_result"
    }
   ],
   "source": [
    "df_cleaned.head()"
   ]
  },
  {
   "cell_type": "markdown",
   "metadata": {},
   "source": [
    "### Train Test  split"
   ]
  },
  {
   "cell_type": "code",
   "execution_count": 53,
   "metadata": {},
   "outputs": [
    {
     "data": {
      "text/plain": [
       "((6739, 23), (6739, 2))"
      ]
     },
     "execution_count": 53,
     "metadata": {},
     "output_type": "execute_result"
    }
   ],
   "source": [
    "X = df_cleaned.drop(['Next_Tmax','Next_Tmin'],1)\n",
    "y = df_cleaned[['Next_Tmax','Next_Tmin']]\n",
    "# checking the shapes\n",
    "X.shape,y.shape"
   ]
  },
  {
   "cell_type": "code",
   "execution_count": 55,
   "metadata": {},
   "outputs": [],
   "source": [
    "from sklearn.preprocessing import StandardScaler\n",
    "scaler = StandardScaler()"
   ]
  },
  {
   "cell_type": "code",
   "execution_count": 56,
   "metadata": {},
   "outputs": [],
   "source": [
    "Xscaled=scaler.fit_transform(X)"
   ]
  },
  {
   "cell_type": "code",
   "execution_count": 57,
   "metadata": {},
   "outputs": [],
   "source": [
    "from sklearn.model_selection import train_test_split\n",
    "X_train,X_test,y_train,y_test = train_test_split(Xscaled,y,test_size=0.3,random_state=42)"
   ]
  },
  {
   "cell_type": "code",
   "execution_count": 58,
   "metadata": {},
   "outputs": [
    {
     "name": "stdout",
     "output_type": "stream",
     "text": [
      "XTRAIN \n",
      " (4717, 23)\n",
      "YTRAIN \n",
      " (4717, 2)\n",
      "XTEST \n",
      " (2022, 23)\n",
      "YTRAIN \n",
      " (2022, 2)\n"
     ]
    }
   ],
   "source": [
    "# checking the shape\n",
    "#shapes\n",
    "print ('XTRAIN \\n',X_train.shape)\n",
    "print ('YTRAIN \\n',y_train.shape)\n",
    "print ('XTEST \\n',X_test.shape)\n",
    "print ('YTRAIN \\n',y_test.shape)"
   ]
  },
  {
   "cell_type": "code",
   "execution_count": 59,
   "metadata": {},
   "outputs": [
    {
     "data": {
      "text/html": [
       "<div>\n",
       "<style scoped>\n",
       "    .dataframe tbody tr th:only-of-type {\n",
       "        vertical-align: middle;\n",
       "    }\n",
       "\n",
       "    .dataframe tbody tr th {\n",
       "        vertical-align: top;\n",
       "    }\n",
       "\n",
       "    .dataframe thead th {\n",
       "        text-align: right;\n",
       "    }\n",
       "</style>\n",
       "<table border=\"1\" class=\"dataframe\">\n",
       "  <thead>\n",
       "    <tr style=\"text-align: right;\">\n",
       "      <th></th>\n",
       "      <th>0</th>\n",
       "      <th>1</th>\n",
       "      <th>2</th>\n",
       "      <th>3</th>\n",
       "      <th>4</th>\n",
       "      <th>5</th>\n",
       "      <th>6</th>\n",
       "      <th>7</th>\n",
       "      <th>8</th>\n",
       "      <th>9</th>\n",
       "      <th>...</th>\n",
       "      <th>13</th>\n",
       "      <th>14</th>\n",
       "      <th>15</th>\n",
       "      <th>16</th>\n",
       "      <th>17</th>\n",
       "      <th>18</th>\n",
       "      <th>19</th>\n",
       "      <th>20</th>\n",
       "      <th>21</th>\n",
       "      <th>22</th>\n",
       "    </tr>\n",
       "  </thead>\n",
       "  <tbody>\n",
       "    <tr>\n",
       "      <th>0</th>\n",
       "      <td>1.108685</td>\n",
       "      <td>1.612418</td>\n",
       "      <td>0.552699</td>\n",
       "      <td>-0.366255</td>\n",
       "      <td>0.547903</td>\n",
       "      <td>1.512851</td>\n",
       "      <td>-0.455018</td>\n",
       "      <td>-0.638127</td>\n",
       "      <td>0.896949</td>\n",
       "      <td>0.366334</td>\n",
       "      <td>...</td>\n",
       "      <td>-0.254099</td>\n",
       "      <td>0.111674</td>\n",
       "      <td>-0.237604</td>\n",
       "      <td>-0.405930</td>\n",
       "      <td>-0.261269</td>\n",
       "      <td>-0.775165</td>\n",
       "      <td>-0.716095</td>\n",
       "      <td>0.168502</td>\n",
       "      <td>0.318671</td>\n",
       "      <td>0.726835</td>\n",
       "    </tr>\n",
       "    <tr>\n",
       "      <th>1</th>\n",
       "      <td>1.248175</td>\n",
       "      <td>1.352395</td>\n",
       "      <td>-0.220314</td>\n",
       "      <td>-1.088018</td>\n",
       "      <td>1.037925</td>\n",
       "      <td>1.746346</td>\n",
       "      <td>0.205402</td>\n",
       "      <td>-1.109280</td>\n",
       "      <td>-0.352629</td>\n",
       "      <td>0.075375</td>\n",
       "      <td>...</td>\n",
       "      <td>-0.210013</td>\n",
       "      <td>-0.258829</td>\n",
       "      <td>-0.237604</td>\n",
       "      <td>-0.405930</td>\n",
       "      <td>-0.261269</td>\n",
       "      <td>-0.775165</td>\n",
       "      <td>-0.716095</td>\n",
       "      <td>-0.752599</td>\n",
       "      <td>-1.053769</td>\n",
       "      <td>-1.421473</td>\n",
       "    </tr>\n",
       "    <tr>\n",
       "      <th>2</th>\n",
       "      <td>1.213303</td>\n",
       "      <td>0.875687</td>\n",
       "      <td>-0.328304</td>\n",
       "      <td>0.218064</td>\n",
       "      <td>-1.625176</td>\n",
       "      <td>-0.936326</td>\n",
       "      <td>0.963275</td>\n",
       "      <td>1.534134</td>\n",
       "      <td>2.024566</td>\n",
       "      <td>1.173677</td>\n",
       "      <td>...</td>\n",
       "      <td>-0.094134</td>\n",
       "      <td>-0.258829</td>\n",
       "      <td>-0.237604</td>\n",
       "      <td>-1.215478</td>\n",
       "      <td>0.418087</td>\n",
       "      <td>-0.085977</td>\n",
       "      <td>-0.006035</td>\n",
       "      <td>-1.781699</td>\n",
       "      <td>-1.053769</td>\n",
       "      <td>0.726835</td>\n",
       "    </tr>\n",
       "    <tr>\n",
       "      <th>3</th>\n",
       "      <td>-0.704684</td>\n",
       "      <td>0.485653</td>\n",
       "      <td>0.813389</td>\n",
       "      <td>-0.252263</td>\n",
       "      <td>0.422059</td>\n",
       "      <td>0.903181</td>\n",
       "      <td>-0.611395</td>\n",
       "      <td>-1.481057</td>\n",
       "      <td>-0.175609</td>\n",
       "      <td>0.411463</td>\n",
       "      <td>...</td>\n",
       "      <td>-0.277993</td>\n",
       "      <td>-0.258829</td>\n",
       "      <td>-0.127369</td>\n",
       "      <td>0.133768</td>\n",
       "      <td>-0.676431</td>\n",
       "      <td>-0.579554</td>\n",
       "      <td>-0.284216</td>\n",
       "      <td>1.103799</td>\n",
       "      <td>-1.053769</td>\n",
       "      <td>1.442938</td>\n",
       "    </tr>\n",
       "    <tr>\n",
       "      <th>4</th>\n",
       "      <td>-0.286214</td>\n",
       "      <td>0.962361</td>\n",
       "      <td>-0.103361</td>\n",
       "      <td>-0.094023</td>\n",
       "      <td>0.853728</td>\n",
       "      <td>0.144739</td>\n",
       "      <td>-0.305594</td>\n",
       "      <td>-1.451934</td>\n",
       "      <td>-0.625038</td>\n",
       "      <td>-0.587415</td>\n",
       "      <td>...</td>\n",
       "      <td>-0.277993</td>\n",
       "      <td>-0.258829</td>\n",
       "      <td>-0.237604</td>\n",
       "      <td>0.671467</td>\n",
       "      <td>0.845830</td>\n",
       "      <td>-0.518594</td>\n",
       "      <td>-0.719941</td>\n",
       "      <td>0.829806</td>\n",
       "      <td>0.318671</td>\n",
       "      <td>1.442938</td>\n",
       "    </tr>\n",
       "    <tr>\n",
       "      <th>...</th>\n",
       "      <td>...</td>\n",
       "      <td>...</td>\n",
       "      <td>...</td>\n",
       "      <td>...</td>\n",
       "      <td>...</td>\n",
       "      <td>...</td>\n",
       "      <td>...</td>\n",
       "      <td>...</td>\n",
       "      <td>...</td>\n",
       "      <td>...</td>\n",
       "      <td>...</td>\n",
       "      <td>...</td>\n",
       "      <td>...</td>\n",
       "      <td>...</td>\n",
       "      <td>...</td>\n",
       "      <td>...</td>\n",
       "      <td>...</td>\n",
       "      <td>...</td>\n",
       "      <td>...</td>\n",
       "      <td>...</td>\n",
       "      <td>...</td>\n",
       "    </tr>\n",
       "    <tr>\n",
       "      <th>4712</th>\n",
       "      <td>0.690215</td>\n",
       "      <td>0.355642</td>\n",
       "      <td>0.877151</td>\n",
       "      <td>-0.114517</td>\n",
       "      <td>-1.108566</td>\n",
       "      <td>0.052337</td>\n",
       "      <td>-1.479523</td>\n",
       "      <td>-0.552068</td>\n",
       "      <td>-0.045234</td>\n",
       "      <td>1.601673</td>\n",
       "      <td>...</td>\n",
       "      <td>0.542625</td>\n",
       "      <td>-0.258829</td>\n",
       "      <td>-0.237604</td>\n",
       "      <td>-1.215478</td>\n",
       "      <td>0.418087</td>\n",
       "      <td>-0.085977</td>\n",
       "      <td>-0.006035</td>\n",
       "      <td>-0.847809</td>\n",
       "      <td>-1.053769</td>\n",
       "      <td>0.010733</td>\n",
       "    </tr>\n",
       "    <tr>\n",
       "      <th>4713</th>\n",
       "      <td>1.596900</td>\n",
       "      <td>1.742429</td>\n",
       "      <td>-0.530111</td>\n",
       "      <td>-1.703929</td>\n",
       "      <td>1.303565</td>\n",
       "      <td>1.451444</td>\n",
       "      <td>-0.669986</td>\n",
       "      <td>0.926556</td>\n",
       "      <td>-1.208547</td>\n",
       "      <td>-0.888067</td>\n",
       "      <td>...</td>\n",
       "      <td>-0.277993</td>\n",
       "      <td>-0.254620</td>\n",
       "      <td>-0.237604</td>\n",
       "      <td>-0.136081</td>\n",
       "      <td>-1.255142</td>\n",
       "      <td>-0.849894</td>\n",
       "      <td>-0.801820</td>\n",
       "      <td>-1.082151</td>\n",
       "      <td>-1.053769</td>\n",
       "      <td>0.726835</td>\n",
       "    </tr>\n",
       "    <tr>\n",
       "      <th>4714</th>\n",
       "      <td>0.969195</td>\n",
       "      <td>2.045789</td>\n",
       "      <td>-0.333246</td>\n",
       "      <td>-1.469379</td>\n",
       "      <td>1.098678</td>\n",
       "      <td>1.619691</td>\n",
       "      <td>-0.530085</td>\n",
       "      <td>-0.017162</td>\n",
       "      <td>0.950491</td>\n",
       "      <td>-0.101255</td>\n",
       "      <td>...</td>\n",
       "      <td>-0.277993</td>\n",
       "      <td>-0.258829</td>\n",
       "      <td>-0.237604</td>\n",
       "      <td>-1.485327</td>\n",
       "      <td>-1.016109</td>\n",
       "      <td>-0.159398</td>\n",
       "      <td>0.239232</td>\n",
       "      <td>-1.248823</td>\n",
       "      <td>-1.053769</td>\n",
       "      <td>0.726835</td>\n",
       "    </tr>\n",
       "    <tr>\n",
       "      <th>4715</th>\n",
       "      <td>-0.076979</td>\n",
       "      <td>-1.897887</td>\n",
       "      <td>0.145820</td>\n",
       "      <td>0.277132</td>\n",
       "      <td>-1.976518</td>\n",
       "      <td>-2.314222</td>\n",
       "      <td>0.730847</td>\n",
       "      <td>1.142160</td>\n",
       "      <td>1.291542</td>\n",
       "      <td>0.541461</td>\n",
       "      <td>...</td>\n",
       "      <td>-0.277993</td>\n",
       "      <td>-0.258829</td>\n",
       "      <td>2.653060</td>\n",
       "      <td>-1.215478</td>\n",
       "      <td>0.418087</td>\n",
       "      <td>-0.085977</td>\n",
       "      <td>-0.006035</td>\n",
       "      <td>-1.966870</td>\n",
       "      <td>-1.053769</td>\n",
       "      <td>0.726835</td>\n",
       "    </tr>\n",
       "    <tr>\n",
       "      <th>4716</th>\n",
       "      <td>1.422538</td>\n",
       "      <td>0.528990</td>\n",
       "      <td>-1.166153</td>\n",
       "      <td>-0.665008</td>\n",
       "      <td>2.063315</td>\n",
       "      <td>1.929687</td>\n",
       "      <td>-0.358991</td>\n",
       "      <td>-0.686213</td>\n",
       "      <td>-0.160220</td>\n",
       "      <td>-0.894965</td>\n",
       "      <td>...</td>\n",
       "      <td>-0.277993</td>\n",
       "      <td>-0.258829</td>\n",
       "      <td>-0.237604</td>\n",
       "      <td>0.671467</td>\n",
       "      <td>1.160347</td>\n",
       "      <td>-0.022639</td>\n",
       "      <td>1.070298</td>\n",
       "      <td>-0.551623</td>\n",
       "      <td>1.691112</td>\n",
       "      <td>-1.421473</td>\n",
       "    </tr>\n",
       "  </tbody>\n",
       "</table>\n",
       "<p>4717 rows × 23 columns</p>\n",
       "</div>"
      ],
      "text/plain": [
       "            0         1         2         3         4         5         6   \\\n",
       "0     1.108685  1.612418  0.552699 -0.366255  0.547903  1.512851 -0.455018   \n",
       "1     1.248175  1.352395 -0.220314 -1.088018  1.037925  1.746346  0.205402   \n",
       "2     1.213303  0.875687 -0.328304  0.218064 -1.625176 -0.936326  0.963275   \n",
       "3    -0.704684  0.485653  0.813389 -0.252263  0.422059  0.903181 -0.611395   \n",
       "4    -0.286214  0.962361 -0.103361 -0.094023  0.853728  0.144739 -0.305594   \n",
       "...        ...       ...       ...       ...       ...       ...       ...   \n",
       "4712  0.690215  0.355642  0.877151 -0.114517 -1.108566  0.052337 -1.479523   \n",
       "4713  1.596900  1.742429 -0.530111 -1.703929  1.303565  1.451444 -0.669986   \n",
       "4714  0.969195  2.045789 -0.333246 -1.469379  1.098678  1.619691 -0.530085   \n",
       "4715 -0.076979 -1.897887  0.145820  0.277132 -1.976518 -2.314222  0.730847   \n",
       "4716  1.422538  0.528990 -1.166153 -0.665008  2.063315  1.929687 -0.358991   \n",
       "\n",
       "            7         8         9   ...        13        14        15  \\\n",
       "0    -0.638127  0.896949  0.366334  ... -0.254099  0.111674 -0.237604   \n",
       "1    -1.109280 -0.352629  0.075375  ... -0.210013 -0.258829 -0.237604   \n",
       "2     1.534134  2.024566  1.173677  ... -0.094134 -0.258829 -0.237604   \n",
       "3    -1.481057 -0.175609  0.411463  ... -0.277993 -0.258829 -0.127369   \n",
       "4    -1.451934 -0.625038 -0.587415  ... -0.277993 -0.258829 -0.237604   \n",
       "...        ...       ...       ...  ...       ...       ...       ...   \n",
       "4712 -0.552068 -0.045234  1.601673  ...  0.542625 -0.258829 -0.237604   \n",
       "4713  0.926556 -1.208547 -0.888067  ... -0.277993 -0.254620 -0.237604   \n",
       "4714 -0.017162  0.950491 -0.101255  ... -0.277993 -0.258829 -0.237604   \n",
       "4715  1.142160  1.291542  0.541461  ... -0.277993 -0.258829  2.653060   \n",
       "4716 -0.686213 -0.160220 -0.894965  ... -0.277993 -0.258829 -0.237604   \n",
       "\n",
       "            16        17        18        19        20        21        22  \n",
       "0    -0.405930 -0.261269 -0.775165 -0.716095  0.168502  0.318671  0.726835  \n",
       "1    -0.405930 -0.261269 -0.775165 -0.716095 -0.752599 -1.053769 -1.421473  \n",
       "2    -1.215478  0.418087 -0.085977 -0.006035 -1.781699 -1.053769  0.726835  \n",
       "3     0.133768 -0.676431 -0.579554 -0.284216  1.103799 -1.053769  1.442938  \n",
       "4     0.671467  0.845830 -0.518594 -0.719941  0.829806  0.318671  1.442938  \n",
       "...        ...       ...       ...       ...       ...       ...       ...  \n",
       "4712 -1.215478  0.418087 -0.085977 -0.006035 -0.847809 -1.053769  0.010733  \n",
       "4713 -0.136081 -1.255142 -0.849894 -0.801820 -1.082151 -1.053769  0.726835  \n",
       "4714 -1.485327 -1.016109 -0.159398  0.239232 -1.248823 -1.053769  0.726835  \n",
       "4715 -1.215478  0.418087 -0.085977 -0.006035 -1.966870 -1.053769  0.726835  \n",
       "4716  0.671467  1.160347 -0.022639  1.070298 -0.551623  1.691112 -1.421473  \n",
       "\n",
       "[4717 rows x 23 columns]"
      ]
     },
     "execution_count": 59,
     "metadata": {},
     "output_type": "execute_result"
    }
   ],
   "source": [
    "pd.DataFrame(X_train)"
   ]
  },
  {
   "cell_type": "markdown",
   "metadata": {},
   "source": [
    "### Model Buliding "
   ]
  },
  {
   "cell_type": "code",
   "execution_count": 60,
   "metadata": {},
   "outputs": [],
   "source": [
    "# importing the model to used for trainng \n",
    "from sklearn.linear_model import LinearRegression\n",
    "from sklearn.neighbors import KNeighborsRegressor\n",
    "from sklearn.ensemble import RandomForestRegressor,AdaBoostRegressor,GradientBoostingRegressor\n",
    "from sklearn.tree import DecisionTreeRegressor\n",
    "\n",
    "\n",
    "\n",
    "# importing the evaluation metrics\n",
    "from sklearn.model_selection import cross_val_score,KFold\n",
    "from sklearn.metrics import r2_score,mean_squared_error"
   ]
  },
  {
   "cell_type": "code",
   "execution_count": 61,
   "metadata": {},
   "outputs": [],
   "source": [
    "#Reusable Function \n",
    "def train_n_ret_scores(model):\n",
    "    model.fit(X_train,y_train)\n",
    "    y_preds = model.predict(X_test)\n",
    "    \n",
    "    print('R2_score',r2_score(y_test,y_preds))\n",
    "    print('MSE',mean_squared_error(y_test,y_preds))"
   ]
  },
  {
   "cell_type": "code",
   "execution_count": 62,
   "metadata": {},
   "outputs": [],
   "source": [
    "## As this has two targets , it will behave like the multivariable"
   ]
  },
  {
   "cell_type": "code",
   "execution_count": 66,
   "metadata": {},
   "outputs": [
    {
     "name": "stdout",
     "output_type": "stream",
     "text": [
      "R2_score 0.7804609024223849\n",
      "MSE 1.5865628182784284\n"
     ]
    }
   ],
   "source": [
    "train_n_ret_scores(LinearRegression())"
   ]
  },
  {
   "cell_type": "code",
   "execution_count": 67,
   "metadata": {},
   "outputs": [
    {
     "name": "stdout",
     "output_type": "stream",
     "text": [
      "R2_score 0.8705331426421634\n",
      "MSE 0.9073170128585577\n"
     ]
    }
   ],
   "source": [
    "#Model2 KNN\n",
    "train_n_ret_scores(KNeighborsRegressor())"
   ]
  },
  {
   "cell_type": "code",
   "execution_count": 69,
   "metadata": {},
   "outputs": [
    {
     "name": "stdout",
     "output_type": "stream",
     "text": [
      "R2_score 0.728440760992755\n",
      "MSE 1.9024282888229513\n"
     ]
    }
   ],
   "source": [
    "#Model3 KNN\n",
    "train_n_ret_scores(DecisionTreeRegressor())"
   ]
  },
  {
   "cell_type": "code",
   "execution_count": 70,
   "metadata": {},
   "outputs": [
    {
     "name": "stdout",
     "output_type": "stream",
     "text": [
      "R2_score 0.8861713480796134\n",
      "MSE 0.8004910858061323\n"
     ]
    }
   ],
   "source": [
    "#model4 RandomForestRegressor()\n",
    "train_n_ret_scores(RandomForestRegressor())"
   ]
  },
  {
   "cell_type": "code",
   "execution_count": 71,
   "metadata": {},
   "outputs": [],
   "source": [
    "from sklearn.model_selection import cross_val_score"
   ]
  },
  {
   "cell_type": "code",
   "execution_count": 76,
   "metadata": {},
   "outputs": [
    {
     "name": "stdout",
     "output_type": "stream",
     "text": [
      "\n",
      " CV score LR 0.7171176249146504\n",
      "\n",
      " CV score XGB 0.7050410927493672\n",
      "\n",
      " CV score SVR 0.5412899158734126\n",
      "\n",
      " CV score DTR 0.42551505397330697\n"
     ]
    }
   ],
   "source": [
    "#Cross Validation \n",
    "cvLR =cross_val_score(LinearRegression(),Xscaled,y,cv=3)\n",
    "cvSVR=cross_val_score(KNeighborsRegressor(),Xscaled,y,cv=3)\n",
    "cvDTR=cross_val_score(DecisionTreeRegressor(),Xscaled,y,cv=3)\n",
    "cvRF=cross_val_score(RandomForestRegressor(),Xscaled,y,cv=3)\n",
    "print ('\\n CV score LR',cvLR.mean())\n",
    "print ('\\n CV score RAndom Forest',cvRF.mean())\n",
    "print ('\\n CV score SVR',cvSVR.mean())\n",
    "print ('\\n CV score DTR',cvDTR.mean())\n"
   ]
  },
  {
   "cell_type": "code",
   "execution_count": 77,
   "metadata": {},
   "outputs": [
    {
     "name": "stdout",
     "output_type": "stream",
     "text": [
      "\n",
      " CV score LR 0.7171176249146504\n",
      "\n",
      " CV score RAndom Forest 0.7050410927493672\n",
      "\n",
      " CV score SVR 0.5412899158734126\n",
      "\n",
      " CV score DTR 0.42551505397330697\n"
     ]
    }
   ],
   "source": [
    "print ('\\n CV score LR',cvLR.mean())\n",
    "print ('\\n CV score RAndom Forest',cvRF.mean())\n",
    "print ('\\n CV score SVR',cvSVR.mean())\n",
    "print ('\\n CV score DTR',cvDTR.mean())"
   ]
  },
  {
   "cell_type": "markdown",
   "metadata": {},
   "source": [
    "### RandomForest REGRESSOR is the best one \n",
    "## HYPER PARAMETER TUNING TO BE DONE on RandomForestRegressor( )"
   ]
  },
  {
   "cell_type": "code",
   "execution_count": 106,
   "metadata": {},
   "outputs": [],
   "source": [
    "from sklearn.model_selection import GridSearchCV\n",
    "\n",
    "param = {\n",
    " 'min_samples_leaf': [1, 2,],\n",
    " 'min_samples_split': [2, 5],\n",
    " 'n_estimators': [100]}"
   ]
  },
  {
   "cell_type": "code",
   "execution_count": 107,
   "metadata": {},
   "outputs": [
    {
     "data": {
      "text/plain": [
       "GridSearchCV(cv=3, estimator=RandomForestRegressor(),\n",
       "             param_grid={'min_samples_leaf': [1, 2],\n",
       "                         'min_samples_split': [2, 5], 'n_estimators': [100]})"
      ]
     },
     "execution_count": 107,
     "metadata": {},
     "output_type": "execute_result"
    }
   ],
   "source": [
    "GSV = GridSearchCV(RandomForestRegressor(),param,cv=3)\n",
    "GSV.fit(X_train,y_train)"
   ]
  },
  {
   "cell_type": "markdown",
   "metadata": {},
   "source": [
    "### BEST PARAMS_"
   ]
  },
  {
   "cell_type": "code",
   "execution_count": 108,
   "metadata": {},
   "outputs": [
    {
     "data": {
      "text/plain": [
       "{'min_samples_leaf': 1, 'min_samples_split': 2, 'n_estimators': 100}"
      ]
     },
     "execution_count": 108,
     "metadata": {},
     "output_type": "execute_result"
    }
   ],
   "source": [
    "GSV.best_params_"
   ]
  },
  {
   "cell_type": "markdown",
   "metadata": {},
   "source": [
    "### Modelling Using best parameters"
   ]
  },
  {
   "cell_type": "code",
   "execution_count": 100,
   "metadata": {},
   "outputs": [],
   "source": [
    "Best_model = RandomForestRegressor(min_samples_leaf=4,n_estimators=100)"
   ]
  },
  {
   "cell_type": "code",
   "execution_count": 101,
   "metadata": {},
   "outputs": [
    {
     "name": "stdout",
     "output_type": "stream",
     "text": [
      "R2_score 0.8741590305156309\n",
      "MSE 0.8820349034773842\n"
     ]
    }
   ],
   "source": [
    "train_n_ret_scores(Best_model)"
   ]
  },
  {
   "cell_type": "code",
   "execution_count": 102,
   "metadata": {},
   "outputs": [],
   "source": [
    "y_preds = Best_model.predict(X_test)"
   ]
  },
  {
   "cell_type": "code",
   "execution_count": 103,
   "metadata": {},
   "outputs": [
    {
     "data": {
      "text/plain": [
       "array([[29.66071912, 23.27100756],\n",
       "       [29.10963473, 21.06018926],\n",
       "       [32.3653042 , 26.37491637],\n",
       "       ...,\n",
       "       [28.19839774, 20.7920006 ],\n",
       "       [26.03460214, 22.02258559],\n",
       "       [24.94475064, 20.73916342]])"
      ]
     },
     "execution_count": 103,
     "metadata": {},
     "output_type": "execute_result"
    }
   ],
   "source": [
    "y_preds"
   ]
  },
  {
   "cell_type": "markdown",
   "metadata": {},
   "source": [
    "### Saving Model "
   ]
  },
  {
   "cell_type": "code",
   "execution_count": 104,
   "metadata": {},
   "outputs": [
    {
     "data": {
      "text/plain": [
       "['Temparature_Forecast.pk1']"
      ]
     },
     "execution_count": 104,
     "metadata": {},
     "output_type": "execute_result"
    }
   ],
   "source": [
    "import joblib\n",
    "joblib.dump(Best_model,'Temparature_Forecast.pk1')\n"
   ]
  },
  {
   "cell_type": "code",
   "execution_count": null,
   "metadata": {},
   "outputs": [],
   "source": []
  },
  {
   "cell_type": "code",
   "execution_count": null,
   "metadata": {},
   "outputs": [],
   "source": []
  },
  {
   "cell_type": "code",
   "execution_count": null,
   "metadata": {},
   "outputs": [],
   "source": []
  },
  {
   "cell_type": "code",
   "execution_count": null,
   "metadata": {},
   "outputs": [],
   "source": []
  },
  {
   "cell_type": "code",
   "execution_count": null,
   "metadata": {},
   "outputs": [],
   "source": []
  },
  {
   "cell_type": "code",
   "execution_count": null,
   "metadata": {},
   "outputs": [],
   "source": []
  },
  {
   "cell_type": "code",
   "execution_count": null,
   "metadata": {},
   "outputs": [],
   "source": []
  },
  {
   "cell_type": "code",
   "execution_count": null,
   "metadata": {},
   "outputs": [],
   "source": []
  },
  {
   "cell_type": "code",
   "execution_count": null,
   "metadata": {},
   "outputs": [],
   "source": []
  },
  {
   "cell_type": "code",
   "execution_count": null,
   "metadata": {},
   "outputs": [],
   "source": []
  },
  {
   "cell_type": "code",
   "execution_count": null,
   "metadata": {},
   "outputs": [],
   "source": []
  },
  {
   "cell_type": "code",
   "execution_count": null,
   "metadata": {},
   "outputs": [],
   "source": []
  },
  {
   "cell_type": "code",
   "execution_count": null,
   "metadata": {},
   "outputs": [],
   "source": []
  },
  {
   "cell_type": "code",
   "execution_count": null,
   "metadata": {},
   "outputs": [],
   "source": []
  },
  {
   "cell_type": "code",
   "execution_count": null,
   "metadata": {},
   "outputs": [],
   "source": []
  }
 ],
 "metadata": {
  "kernelspec": {
   "display_name": "Python 3",
   "language": "python",
   "name": "python3"
  },
  "language_info": {
   "codemirror_mode": {
    "name": "ipython",
    "version": 3
   },
   "file_extension": ".py",
   "mimetype": "text/x-python",
   "name": "python",
   "nbconvert_exporter": "python",
   "pygments_lexer": "ipython3",
   "version": "3.8.5"
  }
 },
 "nbformat": 4,
 "nbformat_minor": 4
}
